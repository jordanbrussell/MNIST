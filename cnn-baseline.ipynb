{
 "cells": [
  {
   "cell_type": "markdown",
   "metadata": {},
   "source": [
    "# Source: Yassine Ghouzam, PhD\n",
    "https://www.kaggle.com/code/yassineghouzam/introduction-to-cnn-keras-0-997-top-6\n",
    "\n",
    "\n"
   ]
  },
  {
   "cell_type": "code",
   "execution_count": 51,
   "metadata": {
    "execution": {
     "iopub.execute_input": "2022-09-19T09:38:22.192927Z",
     "iopub.status.busy": "2022-09-19T09:38:22.192126Z",
     "iopub.status.idle": "2022-09-19T09:38:28.004879Z",
     "shell.execute_reply": "2022-09-19T09:38:28.004134Z",
     "shell.execute_reply.started": "2022-09-19T09:38:22.192887Z"
    }
   },
   "outputs": [],
   "source": [
    "import pandas as pd\n",
    "import numpy as np\n",
    "import matplotlib.pyplot as plt\n",
    "import matplotlib.image as mpimg\n",
    "import seaborn as sns\n",
    "# %matplotlib inline\n",
    "\n",
    "# np.random.seed(2)\n",
    "\n",
    "from sklearn.model_selection import train_test_split\n",
    "from sklearn.metrics import confusion_matrix\n",
    "import itertools\n",
    "\n",
    "from keras.utils.np_utils import to_categorical # convert to one-hot-encoding\n",
    "from keras.models import Sequential\n",
    "from keras.layers import Dense, Dropout, Flatten, Conv2D, MaxPool2D\n",
    "\n",
    "from tensorflow.keras.optimizers import RMSprop\n",
    "from keras.preprocessing.image import ImageDataGenerator\n",
    "from keras.callbacks import ReduceLROnPlateau\n",
    "\n",
    "\n",
    "sns.set(style='white', context='notebook', palette='deep')"
   ]
  },
  {
   "cell_type": "code",
   "execution_count": 52,
   "metadata": {
    "_cell_guid": "5e51d00e-62fd-4141-bf73-50ac4f2da7d0",
    "_execution_state": "idle",
    "_uuid": "84bbd5ab8d7895bd430d5ecfe2f7ddf77baa7b74",
    "execution": {
     "iopub.execute_input": "2022-09-19T07:13:28.797372Z",
     "iopub.status.busy": "2022-09-19T07:13:28.797130Z",
     "iopub.status.idle": "2022-09-19T07:13:33.779273Z",
     "shell.execute_reply": "2022-09-19T07:13:33.778463Z",
     "shell.execute_reply.started": "2022-09-19T07:13:28.797337Z"
    }
   },
   "outputs": [],
   "source": [
    "# Load the data\n",
    "train = pd.read_csv(\"train.csv\")\n",
    "test = pd.read_csv(\"test.csv\")\n",
    "\n",
    "\n",
    "\n",
    "Y_train = train[\"label\"]\n",
    "\n",
    "# Drop 'label' column\n",
    "X_train = train.drop(labels = [\"label\"],axis = 1) \n"
   ]
  },
  {
   "cell_type": "code",
   "execution_count": 53,
   "metadata": {
    "execution": {
     "iopub.execute_input": "2022-09-19T09:37:11.324253Z",
     "iopub.status.busy": "2022-09-19T09:37:11.323923Z",
     "iopub.status.idle": "2022-09-19T09:37:12.272686Z",
     "shell.execute_reply": "2022-09-19T09:37:12.271846Z",
     "shell.execute_reply.started": "2022-09-19T09:37:11.324149Z"
    }
   },
   "outputs": [
    {
     "name": "stdout",
     "output_type": "stream",
     "text": [
      "Python 3.10.4\n"
     ]
    }
   ],
   "source": [
    "!python --version"
   ]
  },
  {
   "cell_type": "code",
   "execution_count": 54,
   "metadata": {
    "_cell_guid": "92572e80-8543-4e72-8767-5c9be8381b04",
    "_execution_state": "idle",
    "_uuid": "a0089bb7ec9aec76373db475399aea24699ae989",
    "execution": {
     "iopub.execute_input": "2022-09-19T07:13:33.780977Z",
     "iopub.status.busy": "2022-09-19T07:13:33.780729Z",
     "iopub.status.idle": "2022-09-19T07:13:33.806073Z",
     "shell.execute_reply": "2022-09-19T07:13:33.805344Z",
     "shell.execute_reply.started": "2022-09-19T07:13:33.780943Z"
    }
   },
   "outputs": [
    {
     "data": {
      "text/plain": [
       "count       784\n",
       "unique        1\n",
       "top       False\n",
       "freq        784\n",
       "dtype: object"
      ]
     },
     "execution_count": 54,
     "metadata": {},
     "output_type": "execute_result"
    }
   ],
   "source": [
    "test.isnull().any().describe()"
   ]
  },
  {
   "cell_type": "markdown",
   "metadata": {
    "_cell_guid": "159d5854-437a-4d0f-bc1e-fc3f7e43d178",
    "_uuid": "0ecf4b52510ab7957d0d4eb646c0aa1ba5986273"
   },
   "source": [
    "# grayscale normalization\n",
    "    \n"
   ]
  },
  {
   "cell_type": "code",
   "execution_count": 55,
   "metadata": {
    "_cell_guid": "cdc4340b-6e24-4e12-be99-ac806098ff17",
    "_execution_state": "idle",
    "_uuid": "b5d4f8fcf2a967e2c7d57daedf95aa8c5ab7f8cb",
    "execution": {
     "iopub.execute_input": "2022-09-19T07:13:33.808467Z",
     "iopub.status.busy": "2022-09-19T07:13:33.808206Z",
     "iopub.status.idle": "2022-09-19T07:13:33.999837Z",
     "shell.execute_reply": "2022-09-19T07:13:33.999100Z",
     "shell.execute_reply.started": "2022-09-19T07:13:33.808434Z"
    }
   },
   "outputs": [],
   "source": [
    "# Normalize the data\n",
    "X_train = X_train / 255.0\n",
    "test = test / 255.0\n",
    "\n",
    "# Reshape image in 3 dimensions (height = 28px, width = 28px , canal = 1)\n",
    "X_train = X_train.values.reshape(-1,28,28,1)\n",
    "test = test.values.reshape(-1,28,28,1)\n",
    "\n",
    "# (28px x 28px) = 1D vectors of 784 values - > reshape 28x28x1 3D matrices. \n"
   ]
  },
  {
   "cell_type": "markdown",
   "metadata": {
    "_cell_guid": "8decd1ce-7b7e-431d-8458-eaca18e0e1f7",
    "_uuid": "f4fb5553e188d9956f5d8b3a5d275ab00ea667ce"
   },
   "source": [
    "\n",
    "Keras requires an extra dimension in the end which correspond to channels. MNIST images are gray scaled so it use only one channel. For RGB images, there is 3 channels, we would have reshaped 784px vectors to 28x28x3 3D matrices. "
   ]
  },
  {
   "cell_type": "code",
   "execution_count": 56,
   "metadata": {
    "_cell_guid": "4b7f3e78-44dc-4561-b1f0-9429ee024cf4",
    "_execution_state": "idle",
    "_uuid": "cabefd1478d5c1bdfe57fd6a34395340916a854c",
    "execution": {
     "iopub.execute_input": "2022-09-19T07:13:34.003449Z",
     "iopub.status.busy": "2022-09-19T07:13:34.003239Z",
     "iopub.status.idle": "2022-09-19T07:13:34.008673Z",
     "shell.execute_reply": "2022-09-19T07:13:34.007944Z",
     "shell.execute_reply.started": "2022-09-19T07:13:34.003424Z"
    }
   },
   "outputs": [],
   "source": [
    "# Encode labels to one hot vectors (ex : 2 -> [0,0,1,0,0,0,0,0,0,0])\n",
    "Y_train = to_categorical(Y_train, num_classes = 10)"
   ]
  },
  {
   "cell_type": "code",
   "execution_count": 57,
   "metadata": {
    "_cell_guid": "3a698301-9759-4279-ae48-fd980f89ea53",
    "_execution_state": "idle",
    "_uuid": "6e51c925c6e0f1b936679c9649fef345c853555f",
    "execution": {
     "iopub.execute_input": "2022-09-19T07:13:34.010611Z",
     "iopub.status.busy": "2022-09-19T07:13:34.009948Z",
     "iopub.status.idle": "2022-09-19T07:13:34.017487Z",
     "shell.execute_reply": "2022-09-19T07:13:34.016574Z",
     "shell.execute_reply.started": "2022-09-19T07:13:34.010575Z"
    }
   },
   "outputs": [],
   "source": [
    "# Set the random seed\n",
    "# random_seed = 2"
   ]
  },
  {
   "cell_type": "code",
   "execution_count": 58,
   "metadata": {
    "_cell_guid": "dcd25ebb-d845-4d32-9867-082e352b1396",
    "_execution_state": "idle",
    "_uuid": "b779ac76d8317647db92d5a88b4098d212d72884",
    "execution": {
     "iopub.execute_input": "2022-09-19T07:13:34.019145Z",
     "iopub.status.busy": "2022-09-19T07:13:34.018768Z",
     "iopub.status.idle": "2022-09-19T07:13:34.410625Z",
     "shell.execute_reply": "2022-09-19T07:13:34.408847Z",
     "shell.execute_reply.started": "2022-09-19T07:13:34.019111Z"
    }
   },
   "outputs": [],
   "source": [
    "# Split the train and the validation set for the fitting\n",
    "X_train, X_val, Y_train, Y_val = train_test_split(X_train, Y_train, test_size = 0.1)\n"
   ]
  },
  {
   "cell_type": "markdown",
   "metadata": {
    "_cell_guid": "3c99964f-4500-4f1c-947d-c67e644e34db",
    "_uuid": "72ed54a305eebf80e8b8b0f7eabde1332a5a85a3"
   },
   "source": [
    "I choosed to split the train set in two parts : a small fraction (10%) became the validation set which the model is evaluated and the rest (90%) is used to train the model.\n",
    "\n",
    "Since we have 42 000 training images of balanced labels (see 2.1 Load data), a random split of the train set doesn't cause some labels to be over represented in the validation set. Be carefull with some unbalanced dataset a simple random split could cause inaccurate evaluation during the validation. \n",
    "\n",
    "To avoid that, you could use stratify = True option in train_test_split function (**Only for >=0.17 sklearn versions**)."
   ]
  },
  {
   "cell_type": "markdown",
   "metadata": {
    "_cell_guid": "adbeacf0-0dc0-4675-b2df-9c9663750f32",
    "_uuid": "60eed15ec5bc0d354385301789ecb8538fc02267"
   },
   "source": [
    "We can get a better sense for one of these examples by visualising the image and looking at the label."
   ]
  },
  {
   "cell_type": "code",
   "execution_count": 72,
   "metadata": {
    "_cell_guid": "5f76131b-4ba0-45f1-a98c-bd4e7d561793",
    "_execution_state": "idle",
    "_uuid": "e0dae8943d3d35f075dba3d7ba31bde1d4bf2ff4",
    "execution": {
     "iopub.execute_input": "2022-09-19T07:13:34.415370Z",
     "iopub.status.busy": "2022-09-19T07:13:34.415137Z",
     "iopub.status.idle": "2022-09-19T07:13:34.423231Z",
     "shell.execute_reply": "2022-09-19T07:13:34.421997Z",
     "shell.execute_reply.started": "2022-09-19T07:13:34.415341Z"
    }
   },
   "outputs": [],
   "source": [
    "# Some examples\n",
    "# g = plt.imshow(X_train[0][:,:,0])"
   ]
  },
  {
   "cell_type": "code",
   "execution_count": 61,
   "metadata": {
    "execution": {
     "iopub.execute_input": "2022-09-19T07:13:37.265818Z",
     "iopub.status.busy": "2022-09-19T07:13:37.265397Z",
     "iopub.status.idle": "2022-09-19T07:13:37.270813Z",
     "shell.execute_reply": "2022-09-19T07:13:37.270113Z",
     "shell.execute_reply.started": "2022-09-19T07:13:37.265781Z"
    }
   },
   "outputs": [],
   "source": [
    "\n",
    "# Set the CNN model \n",
    "# my CNN architechture is In -> [[Conv2D->relu]*2 -> MaxPool2D -> Dropout]*2 -> Flatten -> Dense -> Dropout -> Out\n",
    "\n",
    "model = Sequential()\n",
    "\n",
    "model.add(Conv2D(filters = 32, kernel_size = (5,5),padding = 'Same', \n",
    "                 activation ='relu', input_shape = (28,28,1)))\n",
    "model.add(Conv2D(filters = 32, kernel_size = (5,5),padding = 'Same', \n",
    "                 activation ='relu'))\n",
    "model.add(MaxPool2D(pool_size=(2,2)))\n",
    "model.add(Dropout(0.25))\n",
    "\n",
    "\n",
    "model.add(Conv2D(filters = 64, kernel_size = (3,3),padding = 'Same', \n",
    "                 activation ='relu'))\n",
    "model.add(Conv2D(filters = 64, kernel_size = (3,3),padding = 'Same', \n",
    "                 activation ='relu'))\n",
    "model.add(MaxPool2D(pool_size=(2,2), strides=(2,2)))\n",
    "model.add(Dropout(0.25))\n",
    "\n",
    "\n",
    "model.add(Flatten())\n",
    "model.add(Dense(256, activation = \"relu\"))\n",
    "model.add(Dropout(0.5))\n",
    "model.add(Dense(10, activation = \"softmax\"))"
   ]
  },
  {
   "cell_type": "code",
   "execution_count": 62,
   "metadata": {
    "_cell_guid": "a4c55409-6a65-400a-b5e8-a1dc535429c0",
    "_execution_state": "idle",
    "_uuid": "420c704367b397b8255fefe9d882b35ac8929b95",
    "execution": {
     "iopub.execute_input": "2022-09-19T07:13:37.272557Z",
     "iopub.status.busy": "2022-09-19T07:13:37.272259Z",
     "iopub.status.idle": "2022-09-19T07:13:37.281963Z",
     "shell.execute_reply": "2022-09-19T07:13:37.281104Z",
     "shell.execute_reply.started": "2022-09-19T07:13:37.272474Z"
    }
   },
   "outputs": [
    {
     "name": "stderr",
     "output_type": "stream",
     "text": [
      "C:\\Users\\jbickelhaupt\\Anaconda3\\envs\\tfenv\\lib\\site-packages\\keras\\optimizers\\optimizer_v2\\rmsprop.py:135: UserWarning: The `lr` argument is deprecated, use `learning_rate` instead.\n",
      "  super(RMSprop, self).__init__(name, **kwargs)\n"
     ]
    }
   ],
   "source": [
    "# Define the optimizer\n",
    "optimizer = RMSprop(lr=0.001, rho=0.9, epsilon=1e-08, decay=0.0)"
   ]
  },
  {
   "cell_type": "code",
   "execution_count": 63,
   "metadata": {
    "_cell_guid": "0bd89b79-1a74-40da-af9a-7a76a8b96ff2",
    "_execution_state": "idle",
    "_uuid": "b4c0288622227a3cd05479aa765e324dbb852f34",
    "execution": {
     "iopub.execute_input": "2022-09-19T07:13:37.283759Z",
     "iopub.status.busy": "2022-09-19T07:13:37.283086Z",
     "iopub.status.idle": "2022-09-19T07:13:37.302105Z",
     "shell.execute_reply": "2022-09-19T07:13:37.301406Z",
     "shell.execute_reply.started": "2022-09-19T07:13:37.283715Z"
    }
   },
   "outputs": [],
   "source": [
    "# Compile the model\n",
    "model.compile(optimizer = optimizer , loss = \"categorical_crossentropy\", metrics=[\"accuracy\"])"
   ]
  },
  {
   "cell_type": "code",
   "execution_count": 64,
   "metadata": {
    "_cell_guid": "b5987a18-6bbe-42a2-9d31-333ebc4f7af1",
    "_execution_state": "idle",
    "_uuid": "c4a5b4e462ec5362c47eef4fcc7956fd4e203307",
    "execution": {
     "iopub.execute_input": "2022-09-19T07:13:37.303469Z",
     "iopub.status.busy": "2022-09-19T07:13:37.303158Z",
     "iopub.status.idle": "2022-09-19T07:13:37.308684Z",
     "shell.execute_reply": "2022-09-19T07:13:37.307893Z",
     "shell.execute_reply.started": "2022-09-19T07:13:37.303435Z"
    }
   },
   "outputs": [],
   "source": [
    "# Set a learning rate annealer\n",
    "learning_rate_reduction = ReduceLROnPlateau(monitor='loss', \n",
    "                                            patience=3, \n",
    "                                            verbose=1, \n",
    "                                            factor=0.5, \n",
    "                                            min_lr=0.00001)"
   ]
  },
  {
   "cell_type": "code",
   "execution_count": 65,
   "metadata": {
    "_cell_guid": "970db455-b393-4b25-806d-92c6766c12c0",
    "_execution_state": "idle",
    "_uuid": "26b0647c46efdb6b1096cf7335a7bf2a3417543a",
    "execution": {
     "iopub.execute_input": "2022-09-19T07:13:37.310343Z",
     "iopub.status.busy": "2022-09-19T07:13:37.309866Z",
     "iopub.status.idle": "2022-09-19T07:13:37.316792Z",
     "shell.execute_reply": "2022-09-19T07:13:37.315982Z",
     "shell.execute_reply.started": "2022-09-19T07:13:37.310309Z"
    }
   },
   "outputs": [],
   "source": [
    "epochs = 3 # Turn epochs to 30 to get 0.9967 accuracy\n",
    "batch_size = 86"
   ]
  },
  {
   "cell_type": "code",
   "execution_count": 66,
   "metadata": {
    "_cell_guid": "b342befe-1a6f-44bf-8dab-28033a729122",
    "_execution_state": "idle",
    "_uuid": "21d6192c87d92d497c797656474bccd9cefc5647",
    "execution": {
     "iopub.execute_input": "2022-09-19T07:13:37.319800Z",
     "iopub.status.busy": "2022-09-19T07:13:37.317681Z",
     "iopub.status.idle": "2022-09-19T07:13:37.424318Z",
     "shell.execute_reply": "2022-09-19T07:13:37.423530Z",
     "shell.execute_reply.started": "2022-09-19T07:13:37.319773Z"
    }
   },
   "outputs": [],
   "source": [
    "# With data augmentation to prevent overfitting (accuracy 0.99286)\n",
    "\n",
    "datagen = ImageDataGenerator(\n",
    "        featurewise_center=False,  # set input mean to 0 over the dataset\n",
    "        samplewise_center=False,  # set each sample mean to 0\n",
    "        featurewise_std_normalization=False,  # divide inputs by std of the dataset\n",
    "        samplewise_std_normalization=False,  # divide each input by its std\n",
    "        zca_whitening=False,  # apply ZCA whitening\n",
    "        rotation_range=10,  # randomly rotate images in the range (degrees, 0 to 180)\n",
    "        zoom_range = 0.1, # Randomly zoom image \n",
    "        width_shift_range=0.1,  # randomly shift images horizontally (fraction of total width)\n",
    "        height_shift_range=0.1,  # randomly shift images vertically (fraction of total height)\n",
    "        horizontal_flip=False,  # randomly flip images\n",
    "        vertical_flip=False)  # randomly flip images\n",
    "\n",
    "\n",
    "datagen.fit(X_train)"
   ]
  },
  {
   "cell_type": "code",
   "execution_count": 67,
   "metadata": {
    "_cell_guid": "b453af8d-9736-43e3-b486-7a1cd7dd8909",
    "_execution_state": "idle",
    "_uuid": "cf36b3d029f95b553be02d612e097a9769ee8252",
    "execution": {
     "iopub.execute_input": "2022-09-19T07:13:37.425678Z",
     "iopub.status.busy": "2022-09-19T07:13:37.425437Z",
     "iopub.status.idle": "2022-09-19T07:14:23.662614Z",
     "shell.execute_reply": "2022-09-19T07:14:23.661816Z",
     "shell.execute_reply.started": "2022-09-19T07:13:37.425645Z"
    }
   },
   "outputs": [
    {
     "name": "stderr",
     "output_type": "stream",
     "text": [
      "C:\\Users\\jbickelhaupt\\AppData\\Local\\Temp\\ipykernel_15028\\826158238.py:2: UserWarning: `Model.fit_generator` is deprecated and will be removed in a future version. Please use `Model.fit`, which supports generators.\n",
      "  history = model.fit_generator(datagen.flow(X_train,Y_train, batch_size=batch_size),\n"
     ]
    },
    {
     "name": "stdout",
     "output_type": "stream",
     "text": [
      "Epoch 1/3\n",
      "439/439 - 9s - loss: 0.4212 - accuracy: 0.8663 - val_loss: 0.0515 - val_accuracy: 0.9838 - lr: 0.0010 - 9s/epoch - 21ms/step\n",
      "Epoch 2/3\n",
      "439/439 - 8s - loss: 0.1308 - accuracy: 0.9619 - val_loss: 0.0423 - val_accuracy: 0.9881 - lr: 0.0010 - 8s/epoch - 18ms/step\n",
      "Epoch 3/3\n",
      "439/439 - 8s - loss: 0.0949 - accuracy: 0.9712 - val_loss: 0.0383 - val_accuracy: 0.9895 - lr: 0.0010 - 8s/epoch - 19ms/step\n"
     ]
    }
   ],
   "source": [
    "# Fit the model\n",
    "history = model.fit_generator(datagen.flow(X_train,Y_train, batch_size=batch_size),\n",
    "                              epochs = 3, validation_data = (X_val,Y_val),\n",
    "                              verbose = 2, steps_per_epoch=X_train.shape[0] // batch_size\n",
    "                              , callbacks=[learning_rate_reduction])"
   ]
  },
  {
   "cell_type": "code",
   "execution_count": 68,
   "metadata": {
    "_cell_guid": "eb4b1b73-cbd4-40e8-9790-066fcef4c4c0",
    "_execution_state": "idle",
    "_uuid": "3a831860dd5bb65c8ead1ddcf4ae18ae20dd7f3e",
    "execution": {
     "iopub.execute_input": "2022-09-19T07:14:23.664384Z",
     "iopub.status.busy": "2022-09-19T07:14:23.664028Z",
     "iopub.status.idle": "2022-09-19T07:14:24.123088Z",
     "shell.execute_reply": "2022-09-19T07:14:24.122391Z",
     "shell.execute_reply.started": "2022-09-19T07:14:23.664347Z"
    }
   },
   "outputs": [
    {
     "data": {
      "image/png": "[encoded data removed]",
      "text/plain": [
       "<Figure size 432x288 with 2 Axes>"
      ]
     },
     "metadata": {},
     "output_type": "display_data"
    }
   ],
   "source": [
    "# Plot the loss and accuracy curves for training and validation \n",
    "fig, ax = plt.subplots(2,1)\n",
    "ax[0].plot(history.history['loss'], color='b', label=\"Training loss\")\n",
    "ax[0].plot(history.history['val_loss'], color='r', label=\"validation loss\",axes =ax[0])\n",
    "legend = ax[0].legend(loc='best', shadow=True)\n",
    "\n",
    "ax[1].plot(history.history['accuracy'], color='b', label=\"Training accuracy\")\n",
    "ax[1].plot(history.history['val_accuracy'], color='r',label=\"Validation accuracy\")\n",
    "legend = ax[1].legend(loc='best', shadow=True)"
   ]
  },
  {
   "cell_type": "code",
   "execution_count": 69,
   "metadata": {
    "_cell_guid": "05ff3b9f-c3bb-4cec-a8c2-2c128e8f15b3",
    "_execution_state": "idle",
    "_uuid": "7f17e7bf0a54a01a52fef2d554780f6bc6580dc6",
    "execution": {
     "iopub.status.busy": "2022-09-19T07:14:24.438451Z",
     "iopub.status.idle": "2022-09-19T07:14:24.439203Z",
     "shell.execute_reply": "2022-09-19T07:14:24.438937Z",
     "shell.execute_reply.started": "2022-09-19T07:14:24.438907Z"
    }
   },
   "outputs": [
    {
     "name": "stdout",
     "output_type": "stream",
     "text": [
      "875/875 [==============================] - 2s 2ms/step\n"
     ]
    }
   ],
   "source": [
    "# predict results\n",
    "results = model.predict(test)\n",
    "\n",
    "# select the indix with the maximum probability\n",
    "results = np.argmax(results,axis = 1)\n",
    "\n",
    "results = pd.Series(results,name=\"Label\")"
   ]
  },
  {
   "cell_type": "code",
   "execution_count": 70,
   "metadata": {
    "_cell_guid": "b5f1f39f-13b8-439a-8913-0f120e3d47a9",
    "_execution_state": "idle",
    "_uuid": "369dfaab09240f3f12bcff91953ffd315ab84985",
    "execution": {
     "iopub.status.busy": "2022-09-19T07:14:24.448291Z",
     "iopub.status.idle": "2022-09-19T07:14:24.448943Z",
     "shell.execute_reply": "2022-09-19T07:14:24.448720Z",
     "shell.execute_reply.started": "2022-09-19T07:14:24.448696Z"
    }
   },
   "outputs": [],
   "source": [
    "submission = pd.concat([pd.Series(range(1,28001),name = \"ImageId\"),results],axis = 1)\n",
    "\n",
    "# submission.to_csv(\"cnn_mnist_datagen.csv\",index=False)"
   ]
  },
  {
   "cell_type": "code",
   "execution_count": null,
   "metadata": {},
   "outputs": [],
   "source": []
  },
  {
   "cell_type": "code",
   "execution_count": null,
   "metadata": {},
   "outputs": [],
   "source": []
  },
  {
   "cell_type": "code",
   "execution_count": null,
   "metadata": {},
   "outputs": [],
   "source": []
  }
 ],
 "metadata": {
  "kernelspec": {
   "display_name": "Python 3 (ipykernel)",
   "language": "python",
   "name": "python3"
  },
  "language_info": {
   "codemirror_mode": {
    "name": "ipython",
    "version": 3
   },
   "file_extension": ".py",
   "mimetype": "text/x-python",
   "name": "python",
   "nbconvert_exporter": "python",
   "pygments_lexer": "ipython3",
   "version": "3.10.4"
  }
 },
 "nbformat": 4,
 "nbformat_minor": 4
}
