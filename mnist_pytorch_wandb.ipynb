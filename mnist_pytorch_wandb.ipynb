{
 "cells": [
  {
   "cell_type": "code",
   "execution_count": 24,
   "metadata": {},
   "outputs": [
    {
     "data": {
      "text/html": [
       "Finishing last run (ID:195xbn3b) before initializing another..."
      ],
      "text/plain": [
       "<IPython.core.display.HTML object>"
      ]
     },
     "metadata": {},
     "output_type": "display_data"
    },
    {
     "data": {
      "text/html": [
       "Waiting for W&B process to finish... <strong style=\"color:green\">(success).</strong>"
      ],
      "text/plain": [
       "<IPython.core.display.HTML object>"
      ]
     },
     "metadata": {},
     "output_type": "display_data"
    },
    {
     "data": {
      "text/html": [
       "Synced <strong style=\"color:#cdcd00\">avid-disco-16</strong>: <a href=\"https://wandb.ai/jrbickelhaupt/mlp/runs/195xbn3b\" target=\"_blank\">https://wandb.ai/jrbickelhaupt/mlp/runs/195xbn3b</a><br/>Synced 5 W&B file(s), 0 media file(s), 0 artifact file(s) and 0 other file(s)"
      ],
      "text/plain": [
       "<IPython.core.display.HTML object>"
      ]
     },
     "metadata": {},
     "output_type": "display_data"
    },
    {
     "data": {
      "text/html": [
       "Find logs at: <code>.\\wandb\\run-20221217_164611-195xbn3b\\logs</code>"
      ],
      "text/plain": [
       "<IPython.core.display.HTML object>"
      ]
     },
     "metadata": {},
     "output_type": "display_data"
    },
    {
     "data": {
      "text/html": [
       "Successfully finished last run (ID:195xbn3b). Initializing new run:<br/>"
      ],
      "text/plain": [
       "<IPython.core.display.HTML object>"
      ]
     },
     "metadata": {},
     "output_type": "display_data"
    },
    {
     "data": {
      "text/html": [
       "Tracking run with wandb version 0.13.7"
      ],
      "text/plain": [
       "<IPython.core.display.HTML object>"
      ]
     },
     "metadata": {},
     "output_type": "display_data"
    },
    {
     "data": {
      "text/html": [
       "Run data is saved locally in <code>C:\\Users\\jbickelhaupt\\Downloads\\wandb\\run-20221217_164649-39wl9yrr</code>"
      ],
      "text/plain": [
       "<IPython.core.display.HTML object>"
      ]
     },
     "metadata": {},
     "output_type": "display_data"
    },
    {
     "data": {
      "text/html": [
       "Syncing run <strong><a href=\"https://wandb.ai/jrbickelhaupt/mlp/runs/39wl9yrr\" target=\"_blank\">swift-fog-17</a></strong> to <a href=\"https://wandb.ai/jrbickelhaupt/mlp\" target=\"_blank\">Weights & Biases</a> (<a href=\"https://wandb.me/run\" target=\"_blank\">docs</a>)<br/>"
      ],
      "text/plain": [
       "<IPython.core.display.HTML object>"
      ]
     },
     "metadata": {},
     "output_type": "display_data"
    },
    {
     "data": {
      "text/html": [
       "<button onClick=\"this.nextSibling.style.display='block';this.style.display='none';\">Display W&B run</button><iframe src=\"https://wandb.ai/jrbickelhaupt/mlp/runs/39wl9yrr?jupyter=true\" style=\"border:none;width:100%;height:420px;display:none;\"></iframe>"
      ],
      "text/plain": [
       "<wandb.sdk.wandb_run.Run at 0x20480aa2490>"
      ]
     },
     "execution_count": 24,
     "metadata": {},
     "output_type": "execute_result"
    }
   ],
   "source": [
    "import wandb\n",
    "\n",
    "wandb.init(\n",
    "    project=\"mlp\", \n",
    "    entity=\"jrbickelhaupt\",\n",
    "    config = {\"learning_rate\":0.001, \"epochs\": 100, \"batch_size\": 128, \"dropout\": 0.2}\n",
    ")"
   ]
  },
  {
   "cell_type": "code",
   "execution_count": 25,
   "metadata": {},
   "outputs": [
    {
     "name": "stdout",
     "output_type": "stream",
     "text": [
      "Using PyTorch version: 1.13.1+cpu  Device: cpu\n"
     ]
    }
   ],
   "source": [
    "%matplotlib inline\n",
    "\n",
    "import torch\n",
    "import torch.nn as nn\n",
    "import torch.nn.functional as F\n",
    "from torchvision import datasets, transforms\n",
    "\n",
    "import numpy as np\n",
    "import matplotlib.pyplot as plt\n",
    "\n",
    "if torch.cuda.is_available():\n",
    "    device = torch.device('cuda')\n",
    "else:\n",
    "    device = torch.device('cpu')\n",
    "    \n",
    "print('Using PyTorch version:', torch.__version__, ' Device:', device)"
   ]
  },
  {
   "cell_type": "code",
   "execution_count": 26,
   "metadata": {},
   "outputs": [],
   "source": [
    "batch_size = 32\n",
    "\n",
    "train_dataset = datasets.MNIST('./data', \n",
    "                               train=True, \n",
    "                               download=True, \n",
    "                               transform=transforms.ToTensor())\n",
    "\n",
    "validation_dataset = datasets.MNIST('./data', \n",
    "                                    train=False, \n",
    "                                    transform=transforms.ToTensor())\n",
    "\n",
    "train_loader = torch.utils.data.DataLoader(dataset=train_dataset, \n",
    "                                           batch_size=batch_size, \n",
    "                                           shuffle=True)\n",
    "\n",
    "validation_loader = torch.utils.data.DataLoader(dataset=validation_dataset, \n",
    "                                                batch_size=batch_size, \n",
    "                                                shuffle=False)"
   ]
  },
  {
   "cell_type": "code",
   "execution_count": 27,
   "metadata": {},
   "outputs": [
    {
     "name": "stdout",
     "output_type": "stream",
     "text": [
      "X_train: torch.Size([32, 1, 28, 28]) type: torch.FloatTensor\n",
      "y_train: torch.Size([32]) type: torch.LongTensor\n"
     ]
    }
   ],
   "source": [
    "for (X_train, y_train) in train_loader:\n",
    "    print('X_train:', X_train.size(), 'type:', X_train.type())\n",
    "    print('y_train:', y_train.size(), 'type:', y_train.type())\n",
    "    break"
   ]
  },
  {
   "cell_type": "code",
   "execution_count": 28,
   "metadata": {},
   "outputs": [
    {
     "data": {
      "image/png": "[encoded data removed]",
      "text/plain": [
       "<Figure size 1000x100 with 10 Axes>"
      ]
     },
     "metadata": {},
     "output_type": "display_data"
    }
   ],
   "source": [
    "pltsize=1\n",
    "plt.figure(figsize=(10*pltsize, pltsize))\n",
    "\n",
    "for i in range(10):\n",
    "    plt.subplot(1,10,i+1)\n",
    "    plt.axis('off')\n",
    "    plt.imshow(X_train[i,:,:,:].numpy().reshape(28,28), cmap=\"gray_r\")\n",
    "    plt.title('Class: '+str(y_train[i].item()))"
   ]
  },
  {
   "cell_type": "code",
   "execution_count": 29,
   "metadata": {},
   "outputs": [
    {
     "name": "stdout",
     "output_type": "stream",
     "text": [
      "Net(\n",
      "  (fc1): Linear(in_features=784, out_features=50, bias=True)\n",
      "  (fc1_drop): Dropout(p=0.2, inplace=False)\n",
      "  (fc2): Linear(in_features=50, out_features=50, bias=True)\n",
      "  (fc2_drop): Dropout(p=0.2, inplace=False)\n",
      "  (fc3): Linear(in_features=50, out_features=10, bias=True)\n",
      ")\n"
     ]
    }
   ],
   "source": [
    "dropout = wandb.config['dropout']\n",
    "\n",
    "class Net(nn.Module):\n",
    "    def __init__(self):\n",
    "        super(Net, self).__init__()\n",
    "        self.fc1 = nn.Linear(28*28, 50)\n",
    "        self.fc1_drop = nn.Dropout(dropout)\n",
    "        self.fc2 = nn.Linear(50, 50)\n",
    "        self.fc2_drop = nn.Dropout(dropout)\n",
    "        self.fc3 = nn.Linear(50, 10)\n",
    "\n",
    "    def forward(self, x):\n",
    "        x = x.view(-1, 28*28)\n",
    "        x = F.relu(self.fc1(x))\n",
    "        x = self.fc1_drop(x)\n",
    "        x = F.relu(self.fc2(x))\n",
    "        x = self.fc2_drop(x)\n",
    "        return F.log_softmax(self.fc3(x), dim=1)\n",
    "\n",
    "model = Net().to(device)\n",
    "optimizer = torch.optim.SGD(model.parameters(), lr=0.01, momentum=0.5)\n",
    "criterion = nn.CrossEntropyLoss()\n",
    "\n",
    "print(model)"
   ]
  },
  {
   "cell_type": "code",
   "execution_count": 30,
   "metadata": {},
   "outputs": [],
   "source": [
    "wandb.watch(model)\n",
    "\n",
    "def train(epoch, log_interval=200):\n",
    "    # Set model to training mode\n",
    "    \n",
    "    wandb.log({\"loss\": lossv, \"accuracy\": accv})\n",
    "\n",
    "    model.train()\n",
    "    \n",
    "    # Loop over each batch from the training set\n",
    "    for batch_idx, (data, target) in enumerate(train_loader):\n",
    "        # Copy data to GPU if needed\n",
    "        data = data.to(device)\n",
    "        target = target.to(device)\n",
    "\n",
    "        # Zero gradient buffers\n",
    "        optimizer.zero_grad() \n",
    "        \n",
    "        # Pass data through the network\n",
    "        output = model(data)\n",
    "\n",
    "        # Calculate loss\n",
    "        loss = criterion(output, target)\n",
    "\n",
    "        # Backpropagate\n",
    "        loss.backward()\n",
    "        \n",
    "        # Update weights\n",
    "        optimizer.step()\n",
    "        \n",
    "        if batch_idx % log_interval == 0:\n",
    "            \n",
    "            print('Train Epoch: {} [{}/{} ({:.0f}%)]\\tLoss: {:.6f}'.format(\n",
    "                epoch, batch_idx * len(data), len(train_loader.dataset),\n",
    "                100. * batch_idx / len(train_loader), loss.data.item()))\n",
    "            \n"
   ]
  },
  {
   "cell_type": "code",
   "execution_count": 31,
   "metadata": {},
   "outputs": [],
   "source": [
    "def validate(loss_vector, accuracy_vector):\n",
    "    model.eval()\n",
    "    val_loss, correct = 0, 0\n",
    "    for data, target in validation_loader:\n",
    "        data = data.to(device)\n",
    "        target = target.to(device)\n",
    "        output = model(data)\n",
    "        val_loss += criterion(output, target).data.item()\n",
    "        pred = output.data.max(1)[1] # get the index of the max log-probability\n",
    "        correct += pred.eq(target.data).cpu().sum()\n",
    "\n",
    "    val_loss /= len(validation_loader)\n",
    "    loss_vector.append(val_loss)\n",
    "\n",
    "    accuracy = 100. * correct.to(torch.float32) / len(validation_loader.dataset)\n",
    "    accuracy_vector.append(accuracy)\n",
    "    \n",
    "    print('\\nValidation set: Average loss: {:.4f}, Accuracy: {}/{} ({:.0f}%)\\n'.format(\n",
    "        val_loss, correct, len(validation_loader.dataset), accuracy))\n"
   ]
  },
  {
   "cell_type": "markdown",
   "metadata": {},
   "source": [
    "Now we are ready to train our model using the `train()` function.  An *epoch* means one pass through the whole training data. After each epoch, we evaluate the model using `validate()`. "
   ]
  },
  {
   "cell_type": "code",
   "execution_count": 35,
   "metadata": {},
   "outputs": [
    {
     "name": "stdout",
     "output_type": "stream",
     "text": [
      "Train Epoch: 1 [0/60000 (0%)]\tLoss: 0.135269\n",
      "Train Epoch: 1 [6400/60000 (11%)]\tLoss: 0.256696\n",
      "Train Epoch: 1 [12800/60000 (21%)]\tLoss: 0.324688\n",
      "Train Epoch: 1 [19200/60000 (32%)]\tLoss: 0.083897\n",
      "Train Epoch: 1 [25600/60000 (43%)]\tLoss: 0.416701\n",
      "Train Epoch: 1 [32000/60000 (53%)]\tLoss: 0.094062\n",
      "Train Epoch: 1 [38400/60000 (64%)]\tLoss: 0.324428\n",
      "Train Epoch: 1 [44800/60000 (75%)]\tLoss: 0.347597\n",
      "Train Epoch: 1 [51200/60000 (85%)]\tLoss: 0.075273\n",
      "Train Epoch: 1 [57600/60000 (96%)]\tLoss: 0.095812\n",
      "\n",
      "Validation set: Average loss: 0.1179, Accuracy: 9637/10000 (96%)\n",
      "\n",
      "Train Epoch: 2 [0/60000 (0%)]\tLoss: 0.021724\n",
      "Train Epoch: 2 [6400/60000 (11%)]\tLoss: 0.231978\n",
      "Train Epoch: 2 [12800/60000 (21%)]\tLoss: 0.165084\n",
      "Train Epoch: 2 [19200/60000 (32%)]\tLoss: 0.260204\n",
      "Train Epoch: 2 [25600/60000 (43%)]\tLoss: 0.386323\n",
      "Train Epoch: 2 [32000/60000 (53%)]\tLoss: 0.148120\n",
      "Train Epoch: 2 [38400/60000 (64%)]\tLoss: 0.158283\n",
      "Train Epoch: 2 [44800/60000 (75%)]\tLoss: 0.229366\n",
      "Train Epoch: 2 [51200/60000 (85%)]\tLoss: 0.175439\n",
      "Train Epoch: 2 [57600/60000 (96%)]\tLoss: 0.252123\n",
      "\n",
      "Validation set: Average loss: 0.1136, Accuracy: 9646/10000 (96%)\n",
      "\n",
      "Train Epoch: 3 [0/60000 (0%)]\tLoss: 0.130310\n",
      "Train Epoch: 3 [6400/60000 (11%)]\tLoss: 0.150944\n",
      "Train Epoch: 3 [12800/60000 (21%)]\tLoss: 0.092308\n",
      "Train Epoch: 3 [19200/60000 (32%)]\tLoss: 0.083844\n",
      "Train Epoch: 3 [25600/60000 (43%)]\tLoss: 0.128798\n",
      "Train Epoch: 3 [32000/60000 (53%)]\tLoss: 0.328564\n",
      "Train Epoch: 3 [38400/60000 (64%)]\tLoss: 0.100424\n",
      "Train Epoch: 3 [44800/60000 (75%)]\tLoss: 0.153102\n",
      "Train Epoch: 3 [51200/60000 (85%)]\tLoss: 0.158290\n",
      "Train Epoch: 3 [57600/60000 (96%)]\tLoss: 0.275740\n",
      "\n",
      "Validation set: Average loss: 0.1135, Accuracy: 9644/10000 (96%)\n",
      "\n",
      "Train Epoch: 4 [0/60000 (0%)]\tLoss: 0.463533\n",
      "Train Epoch: 4 [6400/60000 (11%)]\tLoss: 0.232632\n",
      "Train Epoch: 4 [12800/60000 (21%)]\tLoss: 0.054595\n",
      "Train Epoch: 4 [19200/60000 (32%)]\tLoss: 0.220570\n",
      "Train Epoch: 4 [25600/60000 (43%)]\tLoss: 0.267046\n",
      "Train Epoch: 4 [32000/60000 (53%)]\tLoss: 0.298817\n",
      "Train Epoch: 4 [38400/60000 (64%)]\tLoss: 0.080257\n",
      "Train Epoch: 4 [44800/60000 (75%)]\tLoss: 0.214983\n",
      "Train Epoch: 4 [51200/60000 (85%)]\tLoss: 0.095451\n",
      "Train Epoch: 4 [57600/60000 (96%)]\tLoss: 0.151620\n",
      "\n",
      "Validation set: Average loss: 0.1100, Accuracy: 9660/10000 (97%)\n",
      "\n",
      "Train Epoch: 5 [0/60000 (0%)]\tLoss: 0.189038\n",
      "Train Epoch: 5 [6400/60000 (11%)]\tLoss: 0.232337\n",
      "Train Epoch: 5 [12800/60000 (21%)]\tLoss: 0.049009\n",
      "Train Epoch: 5 [19200/60000 (32%)]\tLoss: 0.425737\n",
      "Train Epoch: 5 [25600/60000 (43%)]\tLoss: 0.046513\n",
      "Train Epoch: 5 [32000/60000 (53%)]\tLoss: 0.116635\n",
      "Train Epoch: 5 [38400/60000 (64%)]\tLoss: 0.328962\n",
      "Train Epoch: 5 [44800/60000 (75%)]\tLoss: 0.204992\n",
      "Train Epoch: 5 [51200/60000 (85%)]\tLoss: 0.331401\n",
      "Train Epoch: 5 [57600/60000 (96%)]\tLoss: 0.042481\n",
      "\n",
      "Validation set: Average loss: 0.1083, Accuracy: 9671/10000 (97%)\n",
      "\n",
      "Train Epoch: 6 [0/60000 (0%)]\tLoss: 0.041926\n",
      "Train Epoch: 6 [6400/60000 (11%)]\tLoss: 0.043916\n",
      "Train Epoch: 6 [12800/60000 (21%)]\tLoss: 0.213788\n",
      "Train Epoch: 6 [19200/60000 (32%)]\tLoss: 0.118763\n",
      "Train Epoch: 6 [25600/60000 (43%)]\tLoss: 0.158016\n",
      "Train Epoch: 6 [32000/60000 (53%)]\tLoss: 0.189076\n",
      "Train Epoch: 6 [38400/60000 (64%)]\tLoss: 0.187854\n",
      "Train Epoch: 6 [44800/60000 (75%)]\tLoss: 0.227999\n",
      "Train Epoch: 6 [51200/60000 (85%)]\tLoss: 0.173171\n",
      "Train Epoch: 6 [57600/60000 (96%)]\tLoss: 0.139070\n",
      "\n",
      "Validation set: Average loss: 0.1069, Accuracy: 9661/10000 (97%)\n",
      "\n",
      "Train Epoch: 7 [0/60000 (0%)]\tLoss: 0.134019\n",
      "Train Epoch: 7 [6400/60000 (11%)]\tLoss: 0.030889\n",
      "Train Epoch: 7 [12800/60000 (21%)]\tLoss: 0.235808\n",
      "Train Epoch: 7 [19200/60000 (32%)]\tLoss: 0.037047\n",
      "Train Epoch: 7 [25600/60000 (43%)]\tLoss: 0.062408\n",
      "Train Epoch: 7 [32000/60000 (53%)]\tLoss: 0.082137\n",
      "Train Epoch: 7 [38400/60000 (64%)]\tLoss: 0.115021\n",
      "Train Epoch: 7 [44800/60000 (75%)]\tLoss: 0.044894\n",
      "Train Epoch: 7 [51200/60000 (85%)]\tLoss: 0.187544\n",
      "Train Epoch: 7 [57600/60000 (96%)]\tLoss: 0.109646\n",
      "\n",
      "Validation set: Average loss: 0.1010, Accuracy: 9685/10000 (97%)\n",
      "\n",
      "Train Epoch: 8 [0/60000 (0%)]\tLoss: 0.058992\n",
      "Train Epoch: 8 [6400/60000 (11%)]\tLoss: 0.061425\n",
      "Train Epoch: 8 [12800/60000 (21%)]\tLoss: 0.049940\n",
      "Train Epoch: 8 [19200/60000 (32%)]\tLoss: 0.157035\n",
      "Train Epoch: 8 [25600/60000 (43%)]\tLoss: 0.029113\n",
      "Train Epoch: 8 [32000/60000 (53%)]\tLoss: 0.031992\n",
      "Train Epoch: 8 [38400/60000 (64%)]\tLoss: 0.158965\n",
      "Train Epoch: 8 [44800/60000 (75%)]\tLoss: 0.026870\n",
      "Train Epoch: 8 [51200/60000 (85%)]\tLoss: 0.173534\n",
      "Train Epoch: 8 [57600/60000 (96%)]\tLoss: 0.148466\n",
      "\n",
      "Validation set: Average loss: 0.1038, Accuracy: 9684/10000 (97%)\n",
      "\n",
      "Train Epoch: 9 [0/60000 (0%)]\tLoss: 0.059787\n",
      "Train Epoch: 9 [6400/60000 (11%)]\tLoss: 0.096811\n",
      "Train Epoch: 9 [12800/60000 (21%)]\tLoss: 0.125234\n",
      "Train Epoch: 9 [19200/60000 (32%)]\tLoss: 0.338297\n",
      "Train Epoch: 9 [25600/60000 (43%)]\tLoss: 0.027766\n",
      "Train Epoch: 9 [32000/60000 (53%)]\tLoss: 0.053673\n",
      "Train Epoch: 9 [38400/60000 (64%)]\tLoss: 0.086726\n",
      "Train Epoch: 9 [44800/60000 (75%)]\tLoss: 0.143057\n",
      "Train Epoch: 9 [51200/60000 (85%)]\tLoss: 0.023338\n",
      "Train Epoch: 9 [57600/60000 (96%)]\tLoss: 0.094361\n",
      "\n",
      "Validation set: Average loss: 0.0992, Accuracy: 9699/10000 (97%)\n",
      "\n",
      "Train Epoch: 10 [0/60000 (0%)]\tLoss: 0.080127\n",
      "Train Epoch: 10 [6400/60000 (11%)]\tLoss: 0.225638\n",
      "Train Epoch: 10 [12800/60000 (21%)]\tLoss: 0.224892\n",
      "Train Epoch: 10 [19200/60000 (32%)]\tLoss: 0.221285\n",
      "Train Epoch: 10 [25600/60000 (43%)]\tLoss: 0.227506\n",
      "Train Epoch: 10 [32000/60000 (53%)]\tLoss: 0.126847\n",
      "Train Epoch: 10 [38400/60000 (64%)]\tLoss: 0.082210\n",
      "Train Epoch: 10 [44800/60000 (75%)]\tLoss: 0.102911\n",
      "Train Epoch: 10 [51200/60000 (85%)]\tLoss: 0.129158\n",
      "Train Epoch: 10 [57600/60000 (96%)]\tLoss: 0.148357\n",
      "\n",
      "Validation set: Average loss: 0.0997, Accuracy: 9689/10000 (97%)\n",
      "\n",
      "CPU times: total: 8min 58s\n",
      "Wall time: 1min 30s\n"
     ]
    }
   ],
   "source": [
    "%%time\n",
    "epochs = 10\n",
    "\n",
    "lossv, accv = [], []\n",
    "for epoch in range(1, epochs + 1):\n",
    "    train(epoch)\n",
    "    validate(lossv, accv)\n",
    "    wandb.log({\"loss\": lossv})\n"
   ]
  },
  {
   "cell_type": "code",
   "execution_count": 33,
   "metadata": {},
   "outputs": [
    {
     "data": {
      "image/png": "[encoded data removed]",
      "text/plain": [
       "<Figure size 500x300 with 1 Axes>"
      ]
     },
     "metadata": {},
     "output_type": "display_data"
    },
    {
     "data": {
      "image/png": "[encoded data removed]",
      "text/plain": [
       "<Figure size 500x300 with 1 Axes>"
      ]
     },
     "metadata": {},
     "output_type": "display_data"
    }
   ],
   "source": [
    "plt.figure(figsize=(5,3))\n",
    "plt.plot(np.arange(1,epochs+1), lossv)\n",
    "plt.title('validation loss')\n",
    "\n",
    "plt.figure(figsize=(5,3))\n",
    "plt.plot(np.arange(1,epochs+1), accv)\n",
    "plt.title('validation accuracy');"
   ]
  },
  {
   "cell_type": "markdown",
   "metadata": {},
   "source": [
    "## Model tuning\n",
    "\n",
    "Modify the MLP model.  Try to improve the classification accuracy, or experiment with the effects of different parameters.  If you are interested in the state-of-the-art performance on permutation invariant MNIST, see e.g. this [recent paper](https://arxiv.org/abs/1507.02672) by Aalto University / The Curious AI Company researchers.\n",
    "\n",
    "You can also consult the PyTorch documentation at http://pytorch.org/."
   ]
  },
  {
   "cell_type": "code",
   "execution_count": null,
   "metadata": {},
   "outputs": [],
   "source": []
  },
  {
   "cell_type": "code",
   "execution_count": null,
   "metadata": {},
   "outputs": [],
   "source": []
  }
 ],
 "metadata": {
  "kernelspec": {
   "display_name": "Python 3 (ipykernel)",
   "language": "python",
   "name": "python3"
  },
  "language_info": {
   "codemirror_mode": {
    "name": "ipython",
    "version": 3
   },
   "file_extension": ".py",
   "mimetype": "text/x-python",
   "name": "python",
   "nbconvert_exporter": "python",
   "pygments_lexer": "ipython3",
   "version": "3.9.13"
  }
 },
 "nbformat": 4,
 "nbformat_minor": 4
}
