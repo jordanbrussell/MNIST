{
 "cells": [
  {
   "cell_type": "markdown",
   "metadata": {},
   "source": [
    "# CNN Keras - Hyperparameter Optimization\n",
    "Source: https://www.kaggle.com/code/imeintanis/tutorial-cnn-keras-hyper-parameter-opt-w-b-p2\n"
   ]
  },
  {
   "cell_type": "code",
   "execution_count": 12,
   "metadata": {
    "_cell_guid": "b1076dfc-b9ad-4769-8c92-a6c4dae69d19",
    "_kg_hide-input": false,
    "_uuid": "8f2839f25d086af736a60e9eeb907d3b93b6e0e5"
   },
   "outputs": [],
   "source": [
    "import os \n",
    "import random\n",
    "import pandas as pd\n",
    "import numpy as np\n",
    "import matplotlib.pyplot as plt\n",
    "import matplotlib.image as mpimg\n",
    "import seaborn as sns\n",
    "%matplotlib inline\n",
    "sns.set(style='white', context='notebook', palette='deep')\n",
    "\n",
    "from sklearn.model_selection import train_test_split\n",
    "from sklearn.metrics import confusion_matrix\n",
    "import itertools\n",
    "import gc\n",
    "\n",
    "import tensorflow as tf\n",
    "from tensorflow.keras.layers import *\n",
    "from tensorflow.keras.optimizers import *\n",
    "from tensorflow.keras.preprocessing.image import ImageDataGenerator\n",
    "from tensorflow.keras.callbacks import *\n",
    "\n",
    "import tensorflow_addons as tfa\n",
    "\n",
    "import wandb\n",
    "from wandb.keras import WandbCallback"
   ]
  },
  {
   "cell_type": "markdown",
   "metadata": {},
   "source": [
    "## Helpers"
   ]
  },
  {
   "cell_type": "code",
   "execution_count": 13,
   "metadata": {
    "_kg_hide-input": true
   },
   "outputs": [],
   "source": [
    "# Load the data\n",
    "def load_data(path):\n",
    "\n",
    "    train = pd.read_csv(\"train.csv\")\n",
    "    test = pd.read_csv(\"test.csv\")\n",
    "    \n",
    "    x_tr = train.drop(labels=[\"label\"], axis=1)\n",
    "    y_tr = train[\"label\"]\n",
    "    \n",
    "    print(f'Train: we have {x_tr.shape[0]} images with {x_tr.shape[1]} features and {y_tr.nunique()} classes')\n",
    "    print(f'Test: we have {test.shape[0]} images with {test.shape[1]} features')\n",
    "    \n",
    "    return x_tr, y_tr, test\n",
    "\n",
    "\n",
    "def seed_all(seed):\n",
    "    np.random.seed(seed)\n",
    "    os.environ['PYTHONHASHSEED'] = str(seed)\n",
    "    tf.random.set_seed(seed)"
   ]
  },
  {
   "cell_type": "markdown",
   "metadata": {},
   "source": [
    "# CNN Model\n",
    "\n",
    "#### Architecture 1 - a simple CNN architecture build with the Keras Functional API (TF backend). The main building blocks and their usage are:\n",
    "\n",
    "- Convolutional (Conv2D) layer: It is like a set of learnable filters. I choosed to set 32 filters for the first two layers and 64 filters for the two last ones. Each filter transforms a part of the image (defined by the kernel size) using the kernel filter. The kernel filter matrix is applied on the whole image. Filters can be seen as a transformation of the image. The CNN can isolate features that are useful everywhere from these transformed images (feature maps).\n",
    "\n",
    "- Pooling (MaxPool2D) layer: This layer simply acts as a downsampling filter. It looks at the 2 neighboring pixels and picks the maximal value. These are used to reduce computational cost, and to some extent also reduce overfitting. We have to choose the pooling size (i.e the area size pooled each time) more the pooling dimension is high, more the downsampling is important.\n",
    "\n",
    "- Dropout: is a regularization method, where a proportion of nodes in the layer are randomly ignored (setting their wieghts to zero) for each training sample. This drops randomly a propotion of the network and forces the network to learn features in a distributed way. This technique also improves generalization and reduces the overfitting.\n",
    "\n",
    "- Activation function: 'relu' is the rectifier activation function, used to add non linearity to the model.\n",
    "\n",
    "- Flatten layer: is used to convert the final feature maps into a one single 1D vector. This flattening step is needed so that you can make use of fully connected layers after some convolutional/maxpool layers. It combines all the found local features of the previous convolutional layers.\n",
    "\n",
    "- Fully-Connected (Dense) layers: to act as a (NN) classifier. Note that in the last layer (Dense(10,activation=\"softmax\")) the net outputs distribution of probability of each class.\n",
    "\n",
    "\n",
    "#### Architecture 2 - LeNet5 with some tweaks by C.Deotte (see credits)"
   ]
  },
  {
   "cell_type": "code",
   "execution_count": 14,
   "metadata": {},
   "outputs": [],
   "source": [
    "# Build CNN model \n",
    "# CNN architechture: In -> [[Conv2D->relu]*2 -> MaxPool2D -> Dropout]*2 -> Flatten -> Dense -> Dropout -> Out\n",
    "\n",
    "def build_model(config):\n",
    "    \n",
    "    fs = config.filters         # 32\n",
    "    k1 = config.kernel_1        #[(5,5), (3,3)]\n",
    "    k2 = config.kernel_2        # [(5,5), (3,3)]\n",
    "    pad = config.padding\n",
    "    activ = config.activation   # 'relu'\n",
    "    pool = config.pooling       # (2,2)\n",
    "    dp = config.dropout         # 0.25\n",
    "    dp_out = config.dropout_f   # 0.5\n",
    "    dense_units = config.dense_units  # 256\n",
    "    batch_norm = False\n",
    "    \n",
    "    inp = Input(shape=(28,28,1))    # IMG_H, IMG_W, NO_CHANNELS\n",
    "    \n",
    "    # layer-1:: CNN-CNN-(BN)-Pool-dp\n",
    "    x = Conv2D(filters=fs, kernel_size=k1, padding=pad, activation=activ)(inp)\n",
    "    x = Conv2D(filters=fs, kernel_size=k1, padding=pad, activation=activ)(x)\n",
    "    if batch_norm:\n",
    "        x = BatchNormalization()(x)\n",
    "    x = MaxPool2D(pool_size=(2,2))(x)\n",
    "    x = Dropout(dp)(x)    \n",
    "    \n",
    "    # layer-2:: CNN-CNN-(BN)-Pool-dp\n",
    "    x = Conv2D(filters=fs*2, kernel_size=k2, padding=pad, activation=activ)(inp)\n",
    "    x = Conv2D(filters=fs*2, kernel_size=k2, padding=pad, activation=activ)(x)\n",
    "    if batch_norm:\n",
    "        x = BatchNormalization()(x)\n",
    "    x = MaxPool2D(pool_size=(2,2), strides=(2,2))(x)\n",
    "    x = Dropout(dp)(x)  \n",
    "    \n",
    "    x = Flatten()(x)\n",
    "    #     x = GlobalAveragePooling2D()(x)\n",
    "    \n",
    "    # FC head\n",
    "    x = Dense(dense_units, activation=activ)(x)\n",
    "    x = Dropout(dp_out)(x)\n",
    "    \n",
    "    out = Dense(10, activation=\"softmax\")(x)\n",
    "    \n",
    "    model = tf.keras.models.Model(inp, out)\n",
    "    \n",
    "    print(model.summary())\n",
    "    return model"
   ]
  },
  {
   "cell_type": "code",
   "execution_count": 15,
   "metadata": {
    "_kg_hide-input": true
   },
   "outputs": [],
   "source": [
    "def build_lenet(config):\n",
    "    \n",
    "    fs = config.filters       # 32     \n",
    "    k1 = config.kernel_1      # 3  \n",
    "    k2 = config.kernel_2          \n",
    "    pad = config.padding\n",
    "    activ = config.activation     \n",
    "    dp = config.dropout           \n",
    "    \n",
    "    inp = Input(shape=(28,28,1))  # (IMG_H, IMG_W, NO_CHANNELS)\n",
    "    \n",
    "    x = Conv2D(fs, kernel_size = k1, activation=activ)(inp)\n",
    "    x = BatchNormalization()(x)\n",
    "    x = Conv2D(fs, kernel_size = k1, activation=activ)(x)\n",
    "    x = BatchNormalization()(x)\n",
    "    x = Conv2D(fs, kernel_size = 5, strides=2, padding='same', activation=activ)(x)\n",
    "    x = BatchNormalization()(x)\n",
    "    x = Dropout(dp)(x)\n",
    "    \n",
    "    x = Conv2D(fs*2, kernel_size = k1, activation=activ)(x)\n",
    "    x = BatchNormalization()(x)\n",
    "    x = Conv2D(fs*2, kernel_size = k1, activation=activ)(x)\n",
    "    x = BatchNormalization()(x)\n",
    "    x = Conv2D(fs*2, kernel_size = 5, strides=2, padding='same', activation=activ)(x)\n",
    "    x = BatchNormalization()(x)\n",
    "    x = Dropout(dp)(x)\n",
    "    \n",
    "    x = Conv2D(fs*4, kernel_size = 4, activation=activ)(x)\n",
    "    x = BatchNormalization()(x)\n",
    "    x = Flatten()(x)\n",
    "    x = Dropout(dp)(x)\n",
    "    \n",
    "    out = Dense(10, activation='softmax')(x)\n",
    "    \n",
    "    model = tf.keras.models.Model(inp, out)\n",
    "\n",
    "    print(model.summary())\n",
    "    return model"
   ]
  },
  {
   "cell_type": "markdown",
   "metadata": {},
   "source": [
    "## Master Params\n",
    "\n",
    "I use the master variable DEBUG to control the no. of epochs per trial and hence the runtime of the commit.\n",
    "\n",
    "- set `DEBUG = True` in case of setup/testing/debugging\n",
    "\n",
    "- set `DEBUG = False` when you ready to run experiments"
   ]
  },
  {
   "cell_type": "code",
   "execution_count": 16,
   "metadata": {},
   "outputs": [],
   "source": [
    "DEBUG = True          # set to True in case of setup/testing/debugging -- False when you ready to run experiments\n",
    "# DATA_AUGM = False   # set to True if you wish to add data augmentation \n",
    "\n",
    "BATCH_SIZE = 64\n",
    "\n",
    "if DEBUG:\n",
    "    EPOCHS = 3          \n",
    "else: \n",
    "    EPOCHS = 40"
   ]
  },
  {
   "cell_type": "markdown",
   "metadata": {},
   "source": [
    "### 4. Login to W&B\n",
    "\n",
    "From the command line or inside a nb cell run `!wandb login <your_API_key>` to login and initiate W&B\n",
    "\n",
    "or, use the `wandb.login()` function and copy and paste the API key when asked"
   ]
  },
  {
   "cell_type": "code",
   "execution_count": 17,
   "metadata": {
    "_kg_hide-input": false
   },
   "outputs": [],
   "source": [
    "api_key = 'a4246e578f63858d43450e8c00a059390a2b24fd'"
   ]
  },
  {
   "cell_type": "code",
   "execution_count": 18,
   "metadata": {},
   "outputs": [
    {
     "name": "stderr",
     "output_type": "stream",
     "text": [
      "wandb: Appending key for api.wandb.ai to your netrc file: C:\\Users\\jbickelhaupt/.netrc\n"
     ]
    }
   ],
   "source": [
    "!wandb login $api_key"
   ]
  },
  {
   "cell_type": "markdown",
   "metadata": {},
   "source": [
    "### 5. Create the W&B configuration\n",
    "\n",
    "Let's make a dictionary with all the hyperparameters that we'd like to track! For CNN type models I usually keep track of the following params:\n",
    "\n",
    "- filters\n",
    "- kernel size\n",
    "- learning rate (init)\n",
    "- optimizer\n",
    "- dense units\n",
    "- dropout rate etc\n",
    "\n",
    "But you can add as many others you like."
   ]
  },
  {
   "cell_type": "code",
   "execution_count": 19,
   "metadata": {
    "_kg_hide-input": false
   },
   "outputs": [
    {
     "data": {
      "text/html": [
       "Changes to your `wandb` environment variables will be ignored because your `wandb` session has already started. For more information on how to modify your settings with `wandb.init()` arguments, please refer to <a href=\"https://wandb.me/wandb-init\" target=\"_blank\">the W&B docs</a>."
      ],
      "text/plain": [
       "<IPython.core.display.HTML object>"
      ]
     },
     "metadata": {},
     "output_type": "display_data"
    },
    {
     "data": {
      "text/html": [
       "Finishing last run (ID:gxcrl4c4) before initializing another..."
      ],
      "text/plain": [
       "<IPython.core.display.HTML object>"
      ]
     },
     "metadata": {},
     "output_type": "display_data"
    },
    {
     "data": {
      "text/html": [
       "Waiting for W&B process to finish... <strong style=\"color:green\">(success).</strong>"
      ],
      "text/plain": [
       "<IPython.core.display.HTML object>"
      ]
     },
     "metadata": {},
     "output_type": "display_data"
    },
    {
     "data": {
      "text/html": [
       " View run <strong style=\"color:#cdcd00\">curious-terrain-3</strong> at: <a href=\"https://wandb.ai/jrbickelhaupt/mnist_sweep/runs/gxcrl4c4\" target=\"_blank\">https://wandb.ai/jrbickelhaupt/mnist_sweep/runs/gxcrl4c4</a><br/>Synced 5 W&B file(s), 0 media file(s), 0 artifact file(s) and 0 other file(s)"
      ],
      "text/plain": [
       "<IPython.core.display.HTML object>"
      ]
     },
     "metadata": {},
     "output_type": "display_data"
    },
    {
     "data": {
      "text/html": [
       "Find logs at: <code>.\\wandb\\run-20230112_075631-gxcrl4c4\\logs</code>"
      ],
      "text/plain": [
       "<IPython.core.display.HTML object>"
      ]
     },
     "metadata": {},
     "output_type": "display_data"
    },
    {
     "data": {
      "text/html": [
       "Successfully finished last run (ID:gxcrl4c4). Initializing new run:<br/>"
      ],
      "text/plain": [
       "<IPython.core.display.HTML object>"
      ]
     },
     "metadata": {},
     "output_type": "display_data"
    },
    {
     "data": {
      "text/html": [
       "Tracking run with wandb version 0.13.8"
      ],
      "text/plain": [
       "<IPython.core.display.HTML object>"
      ]
     },
     "metadata": {},
     "output_type": "display_data"
    },
    {
     "data": {
      "text/html": [
       "Run data is saved locally in <code>C:\\Users\\jbickelhaupt\\Downloads\\MNIST-main (1)\\MNIST-main\\wandb\\run-20230112_075724-3gzitw6j</code>"
      ],
      "text/plain": [
       "<IPython.core.display.HTML object>"
      ]
     },
     "metadata": {},
     "output_type": "display_data"
    },
    {
     "data": {
      "text/html": [
       "Syncing run <strong><a href=\"https://wandb.ai/jrbickelhaupt/mnist_sweep/runs/3gzitw6j\" target=\"_blank\">peachy-snow-5</a></strong> to <a href=\"https://wandb.ai/jrbickelhaupt/mnist_sweep\" target=\"_blank\">Weights & Biases</a> (<a href=\"https://wandb.me/run\" target=\"_blank\">docs</a>)<br/>"
      ],
      "text/plain": [
       "<IPython.core.display.HTML object>"
      ]
     },
     "metadata": {},
     "output_type": "display_data"
    },
    {
     "data": {
      "text/html": [
       " View project at <a href=\"https://wandb.ai/jrbickelhaupt/mnist_sweep\" target=\"_blank\">https://wandb.ai/jrbickelhaupt/mnist_sweep</a>"
      ],
      "text/plain": [
       "<IPython.core.display.HTML object>"
      ]
     },
     "metadata": {},
     "output_type": "display_data"
    },
    {
     "data": {
      "text/html": [
       " View run at <a href=\"https://wandb.ai/jrbickelhaupt/mnist_sweep/runs/3gzitw6j\" target=\"_blank\">https://wandb.ai/jrbickelhaupt/mnist_sweep/runs/3gzitw6j</a>"
      ],
      "text/plain": [
       "<IPython.core.display.HTML object>"
      ]
     },
     "metadata": {},
     "output_type": "display_data"
    }
   ],
   "source": [
    "hyperparams = dict(\n",
    "     filters = 32,\n",
    "     kernel_1 = (5,5),\n",
    "     kernel_2 = (3,3),\n",
    "     padding = 'same',\n",
    "     pooling = (2,2),\n",
    "     lr = 0.001,\n",
    "     wd = 0.0,\n",
    "     lr_schedule = 'RLR',    # cos, cyclic, step decay\n",
    "     optimizer = 'Adam',     # RMS\n",
    "     dense_units=256,\n",
    "     activation='relu',      # elu, LeakyRelu\n",
    "     dropout = 0.25,\n",
    "     dropout_f = 0.5,\n",
    "     batch_size = BATCH_SIZE,\n",
    "     epochs = EPOCHS,\n",
    " )\n",
    "\n",
    "wandb.init(project=\"mnist_sweep\", config=hyperparams)\n",
    "config = wandb.config"
   ]
  },
  {
   "cell_type": "markdown",
   "metadata": {},
   "source": [
    "Next, we need to put in a single function all the modelling pipeline, i.e.\n",
    "\n",
    "- the data loading,\n",
    "- preprocessing,\n",
    "- model building and\n",
    "- training parts"
   ]
  },
  {
   "cell_type": "code",
   "execution_count": 23,
   "metadata": {},
   "outputs": [],
   "source": [
    "def train():\n",
    "    \n",
    "    \n",
    "    hyperparams = dict(\n",
    "        filters=32,\n",
    "        kernel_1=(5,5),\n",
    "        kernel_2=(3,3),\n",
    "        padding='same',\n",
    "        pooling=(2,2),\n",
    "        lr=0.001,\n",
    "        wd=0.0,\n",
    "        lr_schedule='RLR',    # cos, cyclic, step decay\n",
    "        optimizer='Adam',     # 'RMS'\n",
    "        dense_units=256,\n",
    "        activation='relu',      # elu, LeakyRelu\n",
    "        dropout=0.25,\n",
    "        dropout_f=0.5,\n",
    "        batch_size=BATCH_SIZE,\n",
    "        epochs=EPOCHS)\n",
    "    \n",
    "    wandb.init(project=\"kaggle-mnist\", config=hyperparams)\n",
    "    config = wandb.config\n",
    "    \n",
    "    \n",
    "    SEED = 26\n",
    "    seed_all(SEED)\n",
    "    \n",
    "    #     # Define image sizes and reshape to a 3-dim tensor\n",
    "    #     global\n",
    "    IMG_H, IMG_W = 28, 28\n",
    "    NO_CHANNELS = 1           # for greyscale images\n",
    "    \n",
    "    # load data\n",
    "    x_train, y_train, x_test = load_data(path=\"../input/digit-recognizer/\")\n",
    "    \n",
    "    \n",
    "    # Normalize the data\n",
    "    x_train = x_train / 255.0\n",
    "    x_test = x_test / 255.0\n",
    "\n",
    "    # Reshape to a 4-dim tensor\n",
    "    x_train = x_train.values.reshape(-1, IMG_H, IMG_W, NO_CHANNELS)\n",
    "    x_test = x_test.values.reshape(-1, IMG_H, IMG_W, NO_CHANNELS)\n",
    "    \n",
    "    # Encode labels\n",
    "    y_train_ohe = tf.keras.utils.to_categorical(y_train, num_classes=10)\n",
    "\n",
    "    print('Tensor shape (train): ', x_train.shape)\n",
    "    print('Tensor shape (test): ', x_test.shape)\n",
    "    print('Tensor shape (target ohe): ', y_train_ohe.shape)\n",
    "    \n",
    "    # Split the train and the validation set for the fitting\n",
    "    x_tr, x_val, y_tr, y_val = train_test_split(x_train, y_train_ohe, test_size=0.15, random_state=SEED)\n",
    "    \n",
    "    print('Tensors shape (train):', x_tr.shape, y_tr.shape)\n",
    "    print('Tensors shape (valid):', x_val.shape, y_val.shape)\n",
    "    \n",
    "    print('Build architecture 1')\n",
    "    model = build_model(config=config)\n",
    "    \n",
    "#     print('Build architecture 2 - LeNet5')\n",
    "#     model = build_lenet(config=config)\n",
    "    \n",
    "    \n",
    "    # Define the optimizer\n",
    "    if config.optimizer=='Adam':\n",
    "        opt = Adam(config.lr)\n",
    "    elif config.optimizer=='RMS':\n",
    "        opt = RMSprop(lr=config.lr, rho=0.9, epsilon=1e-08, decay=0.0)\n",
    "    elif config.optimizer=='Adam+SWA':\n",
    "        opt = Adam(LR)\n",
    "        opt = tfa.optimizers.SWA(opt)\n",
    "    else: \n",
    "        opt = 'adam'    # native adam optimizer \n",
    "    \n",
    "    \n",
    "    # Compile the model\n",
    "    model.compile(optimizer=opt, loss=\"categorical_crossentropy\", metrics=[\"accuracy\"])\n",
    "    \n",
    "    # Set callbacks\n",
    "\n",
    "    callbacks = [\n",
    "        EarlyStopping(monitor='val_loss', patience=15, verbose=1), \n",
    "        ReduceLROnPlateau(monitor='val_accuracy', patience=10, verbose=1, factor=0.5, min_lr=1e-4),\n",
    "        WandbCallback(monitor='val_loss', validation_data=(x_val, y_val))]  \n",
    "    \n",
    "    model.fit(x_train, y_train_ohe, \n",
    "                     batch_size=config.batch_size,    # BATCH_SIZE, \n",
    "                     epochs=config.epochs,            # EPOCHS, \n",
    "                     validation_data=(x_val, y_val), \n",
    "                     callbacks=callbacks,\n",
    "                     verbose=1) "
   ]
  },
  {
   "cell_type": "markdown",
   "metadata": {},
   "source": [
    "# Hyperparameter Optimization\n",
    "\n",
    "\n",
    "### Method 1\n",
    "\n",
    "Build the sweep (hyperparameter search) configuration with python dict.\n",
    "\n",
    "The sweeps config can be defined as a dictionary or a YAML file. Let's walk through some of them together:\n",
    "\n",
    "- `Metric` – This is the metric the sweeps are attempting to optimize. Metrics can take a name (this metric should be logged by your training script) and a goal (maximize or minimize).\n",
    "\n",
    "- `Search Strategy` – Specified using the 'method' variable. We support several different search strategies with sweeps.\n",
    "\n",
    "    - `Grid Search` – Iterates over every combination of hyperparameter values.\n",
    "    - `Random Search` – Iterates over randomly chosen combinations of hyperparameter values.\n",
    "    - `Bayesian Search` – Creates a probabilistic model that maps hyperparameters to probability of a metric score, and chooses parameters with high probability of improving the metric. The objective of Bayesian optimization is to spend more time in picking the hyperparameter values, but in doing so trying out fewer hyperparameter values.\n",
    "    - `Stopping Criteria` – The strategy for determining when to kill off poorly peforming runs, and try more combinations faster. We offer several custom scheduling algorithms like HyperBand and Envelope.\n",
    "\n",
    "- `Parameters` – A dictionary containing the hyperparameter names, and discreet values, max and min values or distributions from which to pull their values to sweep over."
   ]
  },
  {
   "cell_type": "code",
   "execution_count": 24,
   "metadata": {},
   "outputs": [],
   "source": [
    "sweep_config = {\n",
    "#     'program': 'train.py',     # 'tutorial-cnn-keras-hyperparameter-opt-w-b-p2.ipynb',\n",
    "    'method': 'random',         # 'grid', 'hyperopt', 'bayesian'\n",
    "    'metric': {\n",
    "        'name': 'val_loss',     # or 'val_accuracy'\n",
    "        'goal': 'minimize'      # 'maximize'\n",
    "    },\n",
    "    'parameters': {\n",
    "        'filters': {\n",
    "            'values': [16, 32, 64]\n",
    "        },\n",
    "        'lr': {\n",
    "            'distribution': 'uniform',\n",
    "            'min': 0.0005,\n",
    "            'max': 0.002\n",
    "        },\n",
    "        'dp': {\n",
    "            'values': [0.4, 0.5]\n",
    "        }\n",
    "    }\n",
    "}"
   ]
  },
  {
   "cell_type": "markdown",
   "metadata": {},
   "source": [
    "Initialize the sweep by running `wandb.sweep()`. This returns the `sweep_id` that we use to run the sweep agent."
   ]
  },
  {
   "cell_type": "code",
   "execution_count": 21,
   "metadata": {},
   "outputs": [
    {
     "name": "stdout",
     "output_type": "stream",
     "text": [
      "Create sweep with ID: qzdovl0h\n",
      "Sweep URL: https://wandb.ai/jrbickelhaupt/mnist_sweep/sweeps/qzdovl0h\n"
     ]
    }
   ],
   "source": [
    "sweep_id = wandb.sweep(sweep_config, project='mnist_sweep')"
   ]
  },
  {
   "cell_type": "markdown",
   "metadata": {},
   "source": [
    "Start the agent running with `wandb.agent()`\n",
    "\n",
    "(here, I limit the number of trial runs using the `count` arg)"
   ]
  },
  {
   "cell_type": "code",
   "execution_count": 25,
   "metadata": {},
   "outputs": [
    {
     "name": "stderr",
     "output_type": "stream",
     "text": [
      "\u001b[34m\u001b[1mwandb\u001b[0m: \u001b[33mWARNING\u001b[0m Calling wandb.login() after wandb.init() has no effect.\n",
      "\u001b[34m\u001b[1mwandb\u001b[0m: Agent Starting Run: tch9lns7 with config:\n",
      "\u001b[34m\u001b[1mwandb\u001b[0m: \tdp: 0.4\n",
      "\u001b[34m\u001b[1mwandb\u001b[0m: \tfilters: 16\n",
      "\u001b[34m\u001b[1mwandb\u001b[0m: \tlr: 0.0012377651271698778\n",
      "\u001b[34m\u001b[1mwandb\u001b[0m: \u001b[33mWARNING\u001b[0m Ignored wandb.init() arg project when running a sweep.\n"
     ]
    },
    {
     "data": {
      "text/html": [
       "Tracking run with wandb version 0.13.8"
      ],
      "text/plain": [
       "<IPython.core.display.HTML object>"
      ]
     },
     "metadata": {},
     "output_type": "display_data"
    },
    {
     "data": {
      "text/html": [
       "Run data is saved locally in <code>C:\\Users\\jbickelhaupt\\Downloads\\MNIST-main (1)\\MNIST-main\\wandb\\run-20230112_075933-tch9lns7</code>"
      ],
      "text/plain": [
       "<IPython.core.display.HTML object>"
      ]
     },
     "metadata": {},
     "output_type": "display_data"
    },
    {
     "data": {
      "text/html": [
       "Syncing run <strong><a href=\"https://wandb.ai/jrbickelhaupt/mnist_sweep/runs/tch9lns7\" target=\"_blank\">dry-sweep-1</a></strong> to <a href=\"https://wandb.ai/jrbickelhaupt/mnist_sweep\" target=\"_blank\">Weights & Biases</a> (<a href=\"https://wandb.me/run\" target=\"_blank\">docs</a>)<br/>Sweep page: <a href=\"https://wandb.ai/jrbickelhaupt/mnist_sweep/sweeps/qzdovl0h\" target=\"_blank\">https://wandb.ai/jrbickelhaupt/mnist_sweep/sweeps/qzdovl0h</a>"
      ],
      "text/plain": [
       "<IPython.core.display.HTML object>"
      ]
     },
     "metadata": {},
     "output_type": "display_data"
    },
    {
     "data": {
      "text/html": [
       " View project at <a href=\"https://wandb.ai/jrbickelhaupt/mnist_sweep\" target=\"_blank\">https://wandb.ai/jrbickelhaupt/mnist_sweep</a>"
      ],
      "text/plain": [
       "<IPython.core.display.HTML object>"
      ]
     },
     "metadata": {},
     "output_type": "display_data"
    },
    {
     "data": {
      "text/html": [
       " View sweep at <a href=\"https://wandb.ai/jrbickelhaupt/mnist_sweep/sweeps/qzdovl0h\" target=\"_blank\">https://wandb.ai/jrbickelhaupt/mnist_sweep/sweeps/qzdovl0h</a>"
      ],
      "text/plain": [
       "<IPython.core.display.HTML object>"
      ]
     },
     "metadata": {},
     "output_type": "display_data"
    },
    {
     "data": {
      "text/html": [
       " View run at <a href=\"https://wandb.ai/jrbickelhaupt/mnist_sweep/runs/tch9lns7\" target=\"_blank\">https://wandb.ai/jrbickelhaupt/mnist_sweep/runs/tch9lns7</a>"
      ],
      "text/plain": [
       "<IPython.core.display.HTML object>"
      ]
     },
     "metadata": {},
     "output_type": "display_data"
    },
    {
     "name": "stdout",
     "output_type": "stream",
     "text": [
      "Train: we have 42000 images with 784 features and 10 classes\n",
      "Test: we have 28000 images with 784 features\n",
      "Tensor shape (train):  (42000, 28, 28, 1)\n",
      "Tensor shape (test):  (28000, 28, 28, 1)\n",
      "Tensor shape (target ohe):  (42000, 10)\n",
      "Tensors shape (train): (35700, 28, 28, 1) (35700, 10)\n",
      "Tensors shape (valid): (6300, 28, 28, 1) (6300, 10)\n",
      "Build architecture 1\n",
      "Model: \"model\"\n",
      "_________________________________________________________________\n",
      " Layer (type)                Output Shape              Param #   \n",
      "=================================================================\n",
      " input_1 (InputLayer)        [(None, 28, 28, 1)]       0         \n",
      "                                                                 \n",
      " conv2d_2 (Conv2D)           (None, 28, 28, 32)        320       \n",
      "                                                                 \n",
      " conv2d_3 (Conv2D)           (None, 28, 28, 32)        9248      \n",
      "                                                                 \n",
      " max_pooling2d_1 (MaxPooling  (None, 14, 14, 32)       0         \n",
      " 2D)                                                             \n",
      "                                                                 \n",
      " dropout_1 (Dropout)         (None, 14, 14, 32)        0         \n",
      "                                                                 \n",
      " flatten (Flatten)           (None, 6272)              0         \n",
      "                                                                 \n",
      " dense (Dense)               (None, 256)               1605888   \n",
      "                                                                 \n",
      " dropout_2 (Dropout)         (None, 256)               0         \n",
      "                                                                 \n",
      " dense_1 (Dense)             (None, 10)                2570      \n",
      "                                                                 \n",
      "=================================================================\n",
      "Total params: 1,618,026\n",
      "Trainable params: 1,618,026\n",
      "Non-trainable params: 0\n",
      "_________________________________________________________________\n"
     ]
    },
    {
     "name": "stderr",
     "output_type": "stream",
     "text": [
      "\u001b[34m\u001b[1mwandb\u001b[0m: \u001b[33mWARNING\u001b[0m The save_model argument by default saves the model in the HDF5 format that cannot save custom objects like subclassed models and custom layers. This behavior will be deprecated in a future release in favor of the SavedModel format. Meanwhile, the HDF5 model is saved as W&B files and the SavedModel as W&B Artifacts.\n"
     ]
    },
    {
     "name": "stdout",
     "output_type": "stream",
     "text": [
      "None\n",
      "Epoch 1/3\n",
      "657/657 [==============================] - ETA: 0s - loss: 0.2161 - accuracy: 0.9334"
     ]
    },
    {
     "name": "stderr",
     "output_type": "stream",
     "text": [
      "WARNING:absl:Found untraced functions such as _jit_compiled_convolution_op, _jit_compiled_convolution_op while saving (showing 2 of 2). These functions will not be directly callable after loading.\n"
     ]
    },
    {
     "name": "stdout",
     "output_type": "stream",
     "text": [
      "INFO:tensorflow:Assets written to: C:\\Users\\jbickelhaupt\\Downloads\\MNIST-main (1)\\MNIST-main\\wandb\\run-20230112_075933-tch9lns7\\files\\model-best\\assets\n"
     ]
    },
    {
     "name": "stderr",
     "output_type": "stream",
     "text": [
      "INFO:tensorflow:Assets written to: C:\\Users\\jbickelhaupt\\Downloads\\MNIST-main (1)\\MNIST-main\\wandb\\run-20230112_075933-tch9lns7\\files\\model-best\\assets\n",
      "\u001b[34m\u001b[1mwandb\u001b[0m: Adding directory to artifact (C:\\Users\\jbickelhaupt\\Downloads\\MNIST-main (1)\\MNIST-main\\wandb\\run-20230112_075933-tch9lns7\\files\\model-best)... Done. 0.0s\n"
     ]
    },
    {
     "name": "stdout",
     "output_type": "stream",
     "text": [
      "657/657 [==============================] - 9s 10ms/step - loss: 0.2161 - accuracy: 0.9334 - val_loss: 0.0481 - val_accuracy: 0.9851 - lr: 0.0012\n",
      "Epoch 2/3\n",
      "656/657 [============================>.] - ETA: 0s - loss: 0.0788 - accuracy: 0.9760"
     ]
    },
    {
     "name": "stderr",
     "output_type": "stream",
     "text": [
      "WARNING:absl:Found untraced functions such as _jit_compiled_convolution_op, _jit_compiled_convolution_op while saving (showing 2 of 2). These functions will not be directly callable after loading.\n"
     ]
    },
    {
     "name": "stdout",
     "output_type": "stream",
     "text": [
      "INFO:tensorflow:Assets written to: C:\\Users\\jbickelhaupt\\Downloads\\MNIST-main (1)\\MNIST-main\\wandb\\run-20230112_075933-tch9lns7\\files\\model-best\\assets\n"
     ]
    },
    {
     "name": "stderr",
     "output_type": "stream",
     "text": [
      "INFO:tensorflow:Assets written to: C:\\Users\\jbickelhaupt\\Downloads\\MNIST-main (1)\\MNIST-main\\wandb\\run-20230112_075933-tch9lns7\\files\\model-best\\assets\n",
      "\u001b[34m\u001b[1mwandb\u001b[0m: Adding directory to artifact (C:\\Users\\jbickelhaupt\\Downloads\\MNIST-main (1)\\MNIST-main\\wandb\\run-20230112_075933-tch9lns7\\files\\model-best)... Done. 0.0s\n"
     ]
    },
    {
     "name": "stdout",
     "output_type": "stream",
     "text": [
      "657/657 [==============================] - 6s 9ms/step - loss: 0.0788 - accuracy: 0.9760 - val_loss: 0.0278 - val_accuracy: 0.9914 - lr: 0.0012\n",
      "Epoch 3/3\n",
      "655/657 [============================>.] - ETA: 0s - loss: 0.0581 - accuracy: 0.9820"
     ]
    },
    {
     "name": "stderr",
     "output_type": "stream",
     "text": [
      "WARNING:absl:Found untraced functions such as _jit_compiled_convolution_op, _jit_compiled_convolution_op while saving (showing 2 of 2). These functions will not be directly callable after loading.\n"
     ]
    },
    {
     "name": "stdout",
     "output_type": "stream",
     "text": [
      "INFO:tensorflow:Assets written to: C:\\Users\\jbickelhaupt\\Downloads\\MNIST-main (1)\\MNIST-main\\wandb\\run-20230112_075933-tch9lns7\\files\\model-best\\assets\n"
     ]
    },
    {
     "name": "stderr",
     "output_type": "stream",
     "text": [
      "INFO:tensorflow:Assets written to: C:\\Users\\jbickelhaupt\\Downloads\\MNIST-main (1)\\MNIST-main\\wandb\\run-20230112_075933-tch9lns7\\files\\model-best\\assets\n",
      "\u001b[34m\u001b[1mwandb\u001b[0m: Adding directory to artifact (C:\\Users\\jbickelhaupt\\Downloads\\MNIST-main (1)\\MNIST-main\\wandb\\run-20230112_075933-tch9lns7\\files\\model-best)... Done. 0.0s\n"
     ]
    },
    {
     "name": "stdout",
     "output_type": "stream",
     "text": [
      "\b\b\b\b\b\b\b\b\b\b\b\b\b\b\b\b\b\b\b\b\b\b\b\b\b\b\b\b\b\b\b\b\b\b\b\b\b\b\b\b\b\b\b\b\b\b\b\b\b\b\b\b\b\b\b\b\b\b\b\b\b\b\b\b\b\b\b\b\b\b\b\b\b\b\b\b\b\b\b\b\b\b\b\b\r",
      "657/657 [==============================] - 6s 9ms/step - loss: 0.0581 - accuracy: 0.9820 - val_loss: 0.0173 - val_accuracy: 0.9943 - lr: 0.0012\n"
     ]
    },
    {
     "data": {
      "text/html": [
       "Waiting for W&B process to finish... <strong style=\"color:green\">(success).</strong>"
      ],
      "text/plain": [
       "<IPython.core.display.HTML object>"
      ]
     },
     "metadata": {},
     "output_type": "display_data"
    },
    {
     "data": {
      "text/html": [
       "<style>\n",
       "    table.wandb td:nth-child(1) { padding: 0 10px; text-align: left ; width: auto;} td:nth-child(2) {text-align: left ; width: 100%}\n",
       "    .wandb-row { display: flex; flex-direction: row; flex-wrap: wrap; justify-content: flex-start; width: 100% }\n",
       "    .wandb-col { display: flex; flex-direction: column; flex-basis: 100%; flex: 1; padding: 10px; }\n",
       "    </style>\n",
       "<div class=\"wandb-row\"><div class=\"wandb-col\"><h3>Run history:</h3><br/><table class=\"wandb\"><tr><td>accuracy</td><td>▁▇█</td></tr><tr><td>epoch</td><td>▁▅█</td></tr><tr><td>loss</td><td>█▂▁</td></tr><tr><td>lr</td><td>▁▁▁</td></tr><tr><td>val_accuracy</td><td>▁▆█</td></tr><tr><td>val_loss</td><td>█▃▁</td></tr></table><br/></div><div class=\"wandb-col\"><h3>Run summary:</h3><br/><table class=\"wandb\"><tr><td>accuracy</td><td>0.98202</td></tr><tr><td>best_epoch</td><td>2</td></tr><tr><td>best_val_loss</td><td>0.01732</td></tr><tr><td>epoch</td><td>2</td></tr><tr><td>loss</td><td>0.05806</td></tr><tr><td>lr</td><td>0.00124</td></tr><tr><td>val_accuracy</td><td>0.99429</td></tr><tr><td>val_loss</td><td>0.01732</td></tr></table><br/></div></div>"
      ],
      "text/plain": [
       "<IPython.core.display.HTML object>"
      ]
     },
     "metadata": {},
     "output_type": "display_data"
    },
    {
     "data": {
      "text/html": [
       " View run <strong style=\"color:#cdcd00\">dry-sweep-1</strong> at: <a href=\"https://wandb.ai/jrbickelhaupt/mnist_sweep/runs/tch9lns7\" target=\"_blank\">https://wandb.ai/jrbickelhaupt/mnist_sweep/runs/tch9lns7</a><br/>Synced 5 W&B file(s), 1 media file(s), 12 artifact file(s) and 1 other file(s)"
      ],
      "text/plain": [
       "<IPython.core.display.HTML object>"
      ]
     },
     "metadata": {},
     "output_type": "display_data"
    },
    {
     "data": {
      "text/html": [
       "Find logs at: <code>.\\wandb\\run-20230112_075933-tch9lns7\\logs</code>"
      ],
      "text/plain": [
       "<IPython.core.display.HTML object>"
      ]
     },
     "metadata": {},
     "output_type": "display_data"
    },
    {
     "name": "stderr",
     "output_type": "stream",
     "text": [
      "\u001b[34m\u001b[1mwandb\u001b[0m: Agent Starting Run: 77jmqtzg with config:\n",
      "\u001b[34m\u001b[1mwandb\u001b[0m: \tdp: 0.5\n",
      "\u001b[34m\u001b[1mwandb\u001b[0m: \tfilters: 16\n",
      "\u001b[34m\u001b[1mwandb\u001b[0m: \tlr: 0.001306298188824392\n",
      "\u001b[34m\u001b[1mwandb\u001b[0m: \u001b[33mWARNING\u001b[0m Ignored wandb.init() arg project when running a sweep.\n"
     ]
    },
    {
     "data": {
      "text/html": [
       "Tracking run with wandb version 0.13.8"
      ],
      "text/plain": [
       "<IPython.core.display.HTML object>"
      ]
     },
     "metadata": {},
     "output_type": "display_data"
    },
    {
     "data": {
      "text/html": [
       "Run data is saved locally in <code>C:\\Users\\jbickelhaupt\\Downloads\\MNIST-main (1)\\MNIST-main\\wandb\\run-20230112_080014-77jmqtzg</code>"
      ],
      "text/plain": [
       "<IPython.core.display.HTML object>"
      ]
     },
     "metadata": {},
     "output_type": "display_data"
    },
    {
     "data": {
      "text/html": [
       "Syncing run <strong><a href=\"https://wandb.ai/jrbickelhaupt/mnist_sweep/runs/77jmqtzg\" target=\"_blank\">good-sweep-2</a></strong> to <a href=\"https://wandb.ai/jrbickelhaupt/mnist_sweep\" target=\"_blank\">Weights & Biases</a> (<a href=\"https://wandb.me/run\" target=\"_blank\">docs</a>)<br/>Sweep page: <a href=\"https://wandb.ai/jrbickelhaupt/mnist_sweep/sweeps/qzdovl0h\" target=\"_blank\">https://wandb.ai/jrbickelhaupt/mnist_sweep/sweeps/qzdovl0h</a>"
      ],
      "text/plain": [
       "<IPython.core.display.HTML object>"
      ]
     },
     "metadata": {},
     "output_type": "display_data"
    },
    {
     "data": {
      "text/html": [
       " View project at <a href=\"https://wandb.ai/jrbickelhaupt/mnist_sweep\" target=\"_blank\">https://wandb.ai/jrbickelhaupt/mnist_sweep</a>"
      ],
      "text/plain": [
       "<IPython.core.display.HTML object>"
      ]
     },
     "metadata": {},
     "output_type": "display_data"
    },
    {
     "data": {
      "text/html": [
       " View sweep at <a href=\"https://wandb.ai/jrbickelhaupt/mnist_sweep/sweeps/qzdovl0h\" target=\"_blank\">https://wandb.ai/jrbickelhaupt/mnist_sweep/sweeps/qzdovl0h</a>"
      ],
      "text/plain": [
       "<IPython.core.display.HTML object>"
      ]
     },
     "metadata": {},
     "output_type": "display_data"
    },
    {
     "data": {
      "text/html": [
       " View run at <a href=\"https://wandb.ai/jrbickelhaupt/mnist_sweep/runs/77jmqtzg\" target=\"_blank\">https://wandb.ai/jrbickelhaupt/mnist_sweep/runs/77jmqtzg</a>"
      ],
      "text/plain": [
       "<IPython.core.display.HTML object>"
      ]
     },
     "metadata": {},
     "output_type": "display_data"
    },
    {
     "name": "stdout",
     "output_type": "stream",
     "text": [
      "Train: we have 42000 images with 784 features and 10 classes\n",
      "Test: we have 28000 images with 784 features\n",
      "Tensor shape (train):  (42000, 28, 28, 1)\n",
      "Tensor shape (test):  (28000, 28, 28, 1)\n",
      "Tensor shape (target ohe):  (42000, 10)\n",
      "Tensors shape (train): (35700, 28, 28, 1) (35700, 10)\n",
      "Tensors shape (valid): (6300, 28, 28, 1) (6300, 10)\n",
      "Build architecture 1\n",
      "Model: \"model\"\n",
      "_________________________________________________________________\n",
      " Layer (type)                Output Shape              Param #   \n",
      "=================================================================\n",
      " input_1 (InputLayer)        [(None, 28, 28, 1)]       0         \n",
      "                                                                 \n",
      " conv2d_2 (Conv2D)           (None, 28, 28, 32)        320       \n",
      "                                                                 \n",
      " conv2d_3 (Conv2D)           (None, 28, 28, 32)        9248      \n",
      "                                                                 \n",
      " max_pooling2d_1 (MaxPooling  (None, 14, 14, 32)       0         \n",
      " 2D)                                                             \n",
      "                                                                 \n",
      " dropout_1 (Dropout)         (None, 14, 14, 32)        0         \n",
      "                                                                 \n",
      " flatten (Flatten)           (None, 6272)              0         \n",
      "                                                                 \n",
      " dense (Dense)               (None, 256)               1605888   \n",
      "                                                                 \n",
      " dropout_2 (Dropout)         (None, 256)               0         \n",
      "                                                                 \n",
      " dense_1 (Dense)             (None, 10)                2570      \n",
      "                                                                 \n",
      "=================================================================\n",
      "Total params: 1,618,026\n",
      "Trainable params: 1,618,026\n",
      "Non-trainable params: 0\n",
      "_________________________________________________________________\n",
      "None\n",
      "Epoch 1/3\n",
      "656/657 [============================>.] - ETA: 0s - loss: 0.2007 - accuracy: 0.9382"
     ]
    },
    {
     "name": "stderr",
     "output_type": "stream",
     "text": [
      "WARNING:absl:Found untraced functions such as _jit_compiled_convolution_op, _jit_compiled_convolution_op while saving (showing 2 of 2). These functions will not be directly callable after loading.\n"
     ]
    },
    {
     "name": "stdout",
     "output_type": "stream",
     "text": [
      "INFO:tensorflow:Assets written to: C:\\Users\\jbickelhaupt\\Downloads\\MNIST-main (1)\\MNIST-main\\wandb\\run-20230112_080014-77jmqtzg\\files\\model-best\\assets\n"
     ]
    },
    {
     "name": "stderr",
     "output_type": "stream",
     "text": [
      "INFO:tensorflow:Assets written to: C:\\Users\\jbickelhaupt\\Downloads\\MNIST-main (1)\\MNIST-main\\wandb\\run-20230112_080014-77jmqtzg\\files\\model-best\\assets\n",
      "\u001b[34m\u001b[1mwandb\u001b[0m: Adding directory to artifact (C:\\Users\\jbickelhaupt\\Downloads\\MNIST-main (1)\\MNIST-main\\wandb\\run-20230112_080014-77jmqtzg\\files\\model-best)... Done. 0.0s\n"
     ]
    },
    {
     "name": "stdout",
     "output_type": "stream",
     "text": [
      "657/657 [==============================] - 6s 9ms/step - loss: 0.2006 - accuracy: 0.9382 - val_loss: 0.0452 - val_accuracy: 0.9868 - lr: 0.0013\n",
      "Epoch 2/3\n",
      "650/657 [============================>.] - ETA: 0s - loss: 0.0733 - accuracy: 0.9781"
     ]
    },
    {
     "name": "stderr",
     "output_type": "stream",
     "text": [
      "WARNING:absl:Found untraced functions such as _jit_compiled_convolution_op, _jit_compiled_convolution_op while saving (showing 2 of 2). These functions will not be directly callable after loading.\n"
     ]
    },
    {
     "name": "stdout",
     "output_type": "stream",
     "text": [
      "INFO:tensorflow:Assets written to: C:\\Users\\jbickelhaupt\\Downloads\\MNIST-main (1)\\MNIST-main\\wandb\\run-20230112_080014-77jmqtzg\\files\\model-best\\assets\n"
     ]
    },
    {
     "name": "stderr",
     "output_type": "stream",
     "text": [
      "INFO:tensorflow:Assets written to: C:\\Users\\jbickelhaupt\\Downloads\\MNIST-main (1)\\MNIST-main\\wandb\\run-20230112_080014-77jmqtzg\\files\\model-best\\assets\n",
      "\u001b[34m\u001b[1mwandb\u001b[0m: Adding directory to artifact (C:\\Users\\jbickelhaupt\\Downloads\\MNIST-main (1)\\MNIST-main\\wandb\\run-20230112_080014-77jmqtzg\\files\\model-best)... Done. 0.0s\n"
     ]
    },
    {
     "name": "stdout",
     "output_type": "stream",
     "text": [
      "657/657 [==============================] - 6s 9ms/step - loss: 0.0730 - accuracy: 0.9782 - val_loss: 0.0291 - val_accuracy: 0.9910 - lr: 0.0013\n",
      "Epoch 3/3\n",
      "653/657 [============================>.] - ETA: 0s - loss: 0.0540 - accuracy: 0.9831"
     ]
    },
    {
     "name": "stderr",
     "output_type": "stream",
     "text": [
      "WARNING:absl:Found untraced functions such as _jit_compiled_convolution_op, _jit_compiled_convolution_op while saving (showing 2 of 2). These functions will not be directly callable after loading.\n"
     ]
    },
    {
     "name": "stdout",
     "output_type": "stream",
     "text": [
      "INFO:tensorflow:Assets written to: C:\\Users\\jbickelhaupt\\Downloads\\MNIST-main (1)\\MNIST-main\\wandb\\run-20230112_080014-77jmqtzg\\files\\model-best\\assets\n"
     ]
    },
    {
     "name": "stderr",
     "output_type": "stream",
     "text": [
      "INFO:tensorflow:Assets written to: C:\\Users\\jbickelhaupt\\Downloads\\MNIST-main (1)\\MNIST-main\\wandb\\run-20230112_080014-77jmqtzg\\files\\model-best\\assets\n",
      "\u001b[34m\u001b[1mwandb\u001b[0m: Adding directory to artifact (C:\\Users\\jbickelhaupt\\Downloads\\MNIST-main (1)\\MNIST-main\\wandb\\run-20230112_080014-77jmqtzg\\files\\model-best)... Done. 0.0s\n"
     ]
    },
    {
     "name": "stdout",
     "output_type": "stream",
     "text": [
      "\b\b\b\b\b\b\b\b\b\b\b\b\b\b\b\b\b\b\b\b\b\b\b\b\b\b\b\b\b\b\b\b\b\b\b\b\b\b\b\b\b\b\b\b\b\b\b\b\b\b\b\b\b\b\b\b\b\b\b\b\b\b\b\b\b\b\b\b\b\b\b\b\b\b\b\b\b\b\b\b\b\b\b\b\r",
      "657/657 [==============================] - 6s 9ms/step - loss: 0.0539 - accuracy: 0.9831 - val_loss: 0.0184 - val_accuracy: 0.9944 - lr: 0.0013\n"
     ]
    },
    {
     "data": {
      "text/html": [
       "Waiting for W&B process to finish... <strong style=\"color:green\">(success).</strong>"
      ],
      "text/plain": [
       "<IPython.core.display.HTML object>"
      ]
     },
     "metadata": {},
     "output_type": "display_data"
    },
    {
     "data": {
      "text/html": [
       "<style>\n",
       "    table.wandb td:nth-child(1) { padding: 0 10px; text-align: left ; width: auto;} td:nth-child(2) {text-align: left ; width: 100%}\n",
       "    .wandb-row { display: flex; flex-direction: row; flex-wrap: wrap; justify-content: flex-start; width: 100% }\n",
       "    .wandb-col { display: flex; flex-direction: column; flex-basis: 100%; flex: 1; padding: 10px; }\n",
       "    </style>\n",
       "<div class=\"wandb-row\"><div class=\"wandb-col\"><h3>Run history:</h3><br/><table class=\"wandb\"><tr><td>accuracy</td><td>▁▇█</td></tr><tr><td>epoch</td><td>▁▅█</td></tr><tr><td>loss</td><td>█▂▁</td></tr><tr><td>lr</td><td>▁▁▁</td></tr><tr><td>val_accuracy</td><td>▁▅█</td></tr><tr><td>val_loss</td><td>█▄▁</td></tr></table><br/></div><div class=\"wandb-col\"><h3>Run summary:</h3><br/><table class=\"wandb\"><tr><td>accuracy</td><td>0.98314</td></tr><tr><td>best_epoch</td><td>2</td></tr><tr><td>best_val_loss</td><td>0.01841</td></tr><tr><td>epoch</td><td>2</td></tr><tr><td>loss</td><td>0.05394</td></tr><tr><td>lr</td><td>0.00131</td></tr><tr><td>val_accuracy</td><td>0.99444</td></tr><tr><td>val_loss</td><td>0.01841</td></tr></table><br/></div></div>"
      ],
      "text/plain": [
       "<IPython.core.display.HTML object>"
      ]
     },
     "metadata": {},
     "output_type": "display_data"
    },
    {
     "data": {
      "text/html": [
       " View run <strong style=\"color:#cdcd00\">good-sweep-2</strong> at: <a href=\"https://wandb.ai/jrbickelhaupt/mnist_sweep/runs/77jmqtzg\" target=\"_blank\">https://wandb.ai/jrbickelhaupt/mnist_sweep/runs/77jmqtzg</a><br/>Synced 5 W&B file(s), 1 media file(s), 12 artifact file(s) and 1 other file(s)"
      ],
      "text/plain": [
       "<IPython.core.display.HTML object>"
      ]
     },
     "metadata": {},
     "output_type": "display_data"
    },
    {
     "data": {
      "text/html": [
       "Find logs at: <code>.\\wandb\\run-20230112_080014-77jmqtzg\\logs</code>"
      ],
      "text/plain": [
       "<IPython.core.display.HTML object>"
      ]
     },
     "metadata": {},
     "output_type": "display_data"
    },
    {
     "name": "stderr",
     "output_type": "stream",
     "text": [
      "\u001b[34m\u001b[1mwandb\u001b[0m: Agent Starting Run: ic40s063 with config:\n",
      "\u001b[34m\u001b[1mwandb\u001b[0m: \tdp: 0.4\n",
      "\u001b[34m\u001b[1mwandb\u001b[0m: \tfilters: 16\n",
      "\u001b[34m\u001b[1mwandb\u001b[0m: \tlr: 0.0018569263469961584\n",
      "\u001b[34m\u001b[1mwandb\u001b[0m: \u001b[33mWARNING\u001b[0m Ignored wandb.init() arg project when running a sweep.\n"
     ]
    },
    {
     "data": {
      "text/html": [
       "Tracking run with wandb version 0.13.8"
      ],
      "text/plain": [
       "<IPython.core.display.HTML object>"
      ]
     },
     "metadata": {},
     "output_type": "display_data"
    },
    {
     "data": {
      "text/html": [
       "Run data is saved locally in <code>C:\\Users\\jbickelhaupt\\Downloads\\MNIST-main (1)\\MNIST-main\\wandb\\run-20230112_080049-ic40s063</code>"
      ],
      "text/plain": [
       "<IPython.core.display.HTML object>"
      ]
     },
     "metadata": {},
     "output_type": "display_data"
    },
    {
     "data": {
      "text/html": [
       "Syncing run <strong><a href=\"https://wandb.ai/jrbickelhaupt/mnist_sweep/runs/ic40s063\" target=\"_blank\">peachy-sweep-3</a></strong> to <a href=\"https://wandb.ai/jrbickelhaupt/mnist_sweep\" target=\"_blank\">Weights & Biases</a> (<a href=\"https://wandb.me/run\" target=\"_blank\">docs</a>)<br/>Sweep page: <a href=\"https://wandb.ai/jrbickelhaupt/mnist_sweep/sweeps/qzdovl0h\" target=\"_blank\">https://wandb.ai/jrbickelhaupt/mnist_sweep/sweeps/qzdovl0h</a>"
      ],
      "text/plain": [
       "<IPython.core.display.HTML object>"
      ]
     },
     "metadata": {},
     "output_type": "display_data"
    },
    {
     "data": {
      "text/html": [
       " View project at <a href=\"https://wandb.ai/jrbickelhaupt/mnist_sweep\" target=\"_blank\">https://wandb.ai/jrbickelhaupt/mnist_sweep</a>"
      ],
      "text/plain": [
       "<IPython.core.display.HTML object>"
      ]
     },
     "metadata": {},
     "output_type": "display_data"
    },
    {
     "data": {
      "text/html": [
       " View sweep at <a href=\"https://wandb.ai/jrbickelhaupt/mnist_sweep/sweeps/qzdovl0h\" target=\"_blank\">https://wandb.ai/jrbickelhaupt/mnist_sweep/sweeps/qzdovl0h</a>"
      ],
      "text/plain": [
       "<IPython.core.display.HTML object>"
      ]
     },
     "metadata": {},
     "output_type": "display_data"
    },
    {
     "data": {
      "text/html": [
       " View run at <a href=\"https://wandb.ai/jrbickelhaupt/mnist_sweep/runs/ic40s063\" target=\"_blank\">https://wandb.ai/jrbickelhaupt/mnist_sweep/runs/ic40s063</a>"
      ],
      "text/plain": [
       "<IPython.core.display.HTML object>"
      ]
     },
     "metadata": {},
     "output_type": "display_data"
    },
    {
     "name": "stdout",
     "output_type": "stream",
     "text": [
      "Train: we have 42000 images with 784 features and 10 classes\n",
      "Test: we have 28000 images with 784 features\n",
      "Tensor shape (train):  (42000, 28, 28, 1)\n",
      "Tensor shape (test):  (28000, 28, 28, 1)\n",
      "Tensor shape (target ohe):  (42000, 10)\n",
      "Tensors shape (train): (35700, 28, 28, 1) (35700, 10)\n",
      "Tensors shape (valid): (6300, 28, 28, 1) (6300, 10)\n",
      "Build architecture 1\n",
      "Model: \"model\"\n",
      "_________________________________________________________________\n",
      " Layer (type)                Output Shape              Param #   \n",
      "=================================================================\n",
      " input_1 (InputLayer)        [(None, 28, 28, 1)]       0         \n",
      "                                                                 \n",
      " conv2d_2 (Conv2D)           (None, 28, 28, 32)        320       \n",
      "                                                                 \n",
      " conv2d_3 (Conv2D)           (None, 28, 28, 32)        9248      \n",
      "                                                                 \n",
      " max_pooling2d_1 (MaxPooling  (None, 14, 14, 32)       0         \n",
      " 2D)                                                             \n",
      "                                                                 \n",
      " dropout_1 (Dropout)         (None, 14, 14, 32)        0         \n",
      "                                                                 \n",
      " flatten (Flatten)           (None, 6272)              0         \n",
      "                                                                 \n",
      " dense (Dense)               (None, 256)               1605888   \n",
      "                                                                 \n",
      " dropout_2 (Dropout)         (None, 256)               0         \n",
      "                                                                 \n",
      " dense_1 (Dense)             (None, 10)                2570      \n",
      "                                                                 \n",
      "=================================================================\n",
      "Total params: 1,618,026\n",
      "Trainable params: 1,618,026\n",
      "Non-trainable params: 0\n",
      "_________________________________________________________________\n",
      "None\n",
      "Epoch 1/3\n",
      "657/657 [==============================] - ETA: 0s - loss: 0.1945 - accuracy: 0.9401"
     ]
    },
    {
     "name": "stderr",
     "output_type": "stream",
     "text": [
      "WARNING:absl:Found untraced functions such as _jit_compiled_convolution_op, _jit_compiled_convolution_op while saving (showing 2 of 2). These functions will not be directly callable after loading.\n"
     ]
    },
    {
     "name": "stdout",
     "output_type": "stream",
     "text": [
      "INFO:tensorflow:Assets written to: C:\\Users\\jbickelhaupt\\Downloads\\MNIST-main (1)\\MNIST-main\\wandb\\run-20230112_080049-ic40s063\\files\\model-best\\assets\n"
     ]
    },
    {
     "name": "stderr",
     "output_type": "stream",
     "text": [
      "INFO:tensorflow:Assets written to: C:\\Users\\jbickelhaupt\\Downloads\\MNIST-main (1)\\MNIST-main\\wandb\\run-20230112_080049-ic40s063\\files\\model-best\\assets\n",
      "\u001b[34m\u001b[1mwandb\u001b[0m: Adding directory to artifact (C:\\Users\\jbickelhaupt\\Downloads\\MNIST-main (1)\\MNIST-main\\wandb\\run-20230112_080049-ic40s063\\files\\model-best)... Done. 0.0s\n"
     ]
    },
    {
     "name": "stdout",
     "output_type": "stream",
     "text": [
      "657/657 [==============================] - 7s 9ms/step - loss: 0.1945 - accuracy: 0.9401 - val_loss: 0.0473 - val_accuracy: 0.9852 - lr: 0.0019\n",
      "Epoch 2/3\n",
      "650/657 [============================>.] - ETA: 0s - loss: 0.0737 - accuracy: 0.9775"
     ]
    },
    {
     "name": "stderr",
     "output_type": "stream",
     "text": [
      "WARNING:absl:Found untraced functions such as _jit_compiled_convolution_op, _jit_compiled_convolution_op while saving (showing 2 of 2). These functions will not be directly callable after loading.\n"
     ]
    },
    {
     "name": "stdout",
     "output_type": "stream",
     "text": [
      "INFO:tensorflow:Assets written to: C:\\Users\\jbickelhaupt\\Downloads\\MNIST-main (1)\\MNIST-main\\wandb\\run-20230112_080049-ic40s063\\files\\model-best\\assets\n"
     ]
    },
    {
     "name": "stderr",
     "output_type": "stream",
     "text": [
      "INFO:tensorflow:Assets written to: C:\\Users\\jbickelhaupt\\Downloads\\MNIST-main (1)\\MNIST-main\\wandb\\run-20230112_080049-ic40s063\\files\\model-best\\assets\n",
      "\u001b[34m\u001b[1mwandb\u001b[0m: Adding directory to artifact (C:\\Users\\jbickelhaupt\\Downloads\\MNIST-main (1)\\MNIST-main\\wandb\\run-20230112_080049-ic40s063\\files\\model-best)... Done. 0.0s\n"
     ]
    },
    {
     "name": "stdout",
     "output_type": "stream",
     "text": [
      "657/657 [==============================] - 6s 9ms/step - loss: 0.0736 - accuracy: 0.9776 - val_loss: 0.0322 - val_accuracy: 0.9884 - lr: 0.0019\n",
      "Epoch 3/3\n",
      "657/657 [==============================] - ETA: 0s - loss: 0.0548 - accuracy: 0.9828"
     ]
    },
    {
     "name": "stderr",
     "output_type": "stream",
     "text": [
      "WARNING:absl:Found untraced functions such as _jit_compiled_convolution_op, _jit_compiled_convolution_op while saving (showing 2 of 2). These functions will not be directly callable after loading.\n"
     ]
    },
    {
     "name": "stdout",
     "output_type": "stream",
     "text": [
      "INFO:tensorflow:Assets written to: C:\\Users\\jbickelhaupt\\Downloads\\MNIST-main (1)\\MNIST-main\\wandb\\run-20230112_080049-ic40s063\\files\\model-best\\assets\n"
     ]
    },
    {
     "name": "stderr",
     "output_type": "stream",
     "text": [
      "INFO:tensorflow:Assets written to: C:\\Users\\jbickelhaupt\\Downloads\\MNIST-main (1)\\MNIST-main\\wandb\\run-20230112_080049-ic40s063\\files\\model-best\\assets\n",
      "\u001b[34m\u001b[1mwandb\u001b[0m: Adding directory to artifact (C:\\Users\\jbickelhaupt\\Downloads\\MNIST-main (1)\\MNIST-main\\wandb\\run-20230112_080049-ic40s063\\files\\model-best)... Done. 0.0s\n"
     ]
    },
    {
     "name": "stdout",
     "output_type": "stream",
     "text": [
      "\b\b\b\b\b\b\b\b\b\b\b\b\b\b\b\b\b\b\b\b\b\b\b\b\b\b\b\b\b\b\b\b\b\b\b\b\b\b\b\b\b\b\b\b\b\b\b\b\b\b\b\b\b\b\b\b\b\b\b\b\b\b\b\b\b\b\b\b\b\b\b\b\b\b\b\b\b\b\b\b\b\b\b\b\r",
      "657/657 [==============================] - 6s 9ms/step - loss: 0.0548 - accuracy: 0.9828 - val_loss: 0.0174 - val_accuracy: 0.9940 - lr: 0.0019\n"
     ]
    },
    {
     "data": {
      "text/html": [
       "Waiting for W&B process to finish... <strong style=\"color:green\">(success).</strong>"
      ],
      "text/plain": [
       "<IPython.core.display.HTML object>"
      ]
     },
     "metadata": {},
     "output_type": "display_data"
    },
    {
     "data": {
      "text/html": [
       "<style>\n",
       "    table.wandb td:nth-child(1) { padding: 0 10px; text-align: left ; width: auto;} td:nth-child(2) {text-align: left ; width: 100%}\n",
       "    .wandb-row { display: flex; flex-direction: row; flex-wrap: wrap; justify-content: flex-start; width: 100% }\n",
       "    .wandb-col { display: flex; flex-direction: column; flex-basis: 100%; flex: 1; padding: 10px; }\n",
       "    </style>\n",
       "<div class=\"wandb-row\"><div class=\"wandb-col\"><h3>Run history:</h3><br/><table class=\"wandb\"><tr><td>accuracy</td><td>▁▇█</td></tr><tr><td>epoch</td><td>▁▅█</td></tr><tr><td>loss</td><td>█▂▁</td></tr><tr><td>lr</td><td>▁▁▁</td></tr><tr><td>val_accuracy</td><td>▁▄█</td></tr><tr><td>val_loss</td><td>█▄▁</td></tr></table><br/></div><div class=\"wandb-col\"><h3>Run summary:</h3><br/><table class=\"wandb\"><tr><td>accuracy</td><td>0.98279</td></tr><tr><td>best_epoch</td><td>2</td></tr><tr><td>best_val_loss</td><td>0.0174</td></tr><tr><td>epoch</td><td>2</td></tr><tr><td>loss</td><td>0.05479</td></tr><tr><td>lr</td><td>0.00186</td></tr><tr><td>val_accuracy</td><td>0.99397</td></tr><tr><td>val_loss</td><td>0.0174</td></tr></table><br/></div></div>"
      ],
      "text/plain": [
       "<IPython.core.display.HTML object>"
      ]
     },
     "metadata": {},
     "output_type": "display_data"
    },
    {
     "data": {
      "text/html": [
       " View run <strong style=\"color:#cdcd00\">peachy-sweep-3</strong> at: <a href=\"https://wandb.ai/jrbickelhaupt/mnist_sweep/runs/ic40s063\" target=\"_blank\">https://wandb.ai/jrbickelhaupt/mnist_sweep/runs/ic40s063</a><br/>Synced 5 W&B file(s), 1 media file(s), 12 artifact file(s) and 1 other file(s)"
      ],
      "text/plain": [
       "<IPython.core.display.HTML object>"
      ]
     },
     "metadata": {},
     "output_type": "display_data"
    },
    {
     "data": {
      "text/html": [
       "Find logs at: <code>.\\wandb\\run-20230112_080049-ic40s063\\logs</code>"
      ],
      "text/plain": [
       "<IPython.core.display.HTML object>"
      ]
     },
     "metadata": {},
     "output_type": "display_data"
    }
   ],
   "source": [
    "wandb.agent(sweep_id, function=train, count=3, project='mnist_sweep')   #"
   ]
  },
  {
   "attachments": {
    "image-2.png": {
     "image/png": "[encoded data removed]"
    }
   },
   "cell_type": "markdown",
   "metadata": {},
   "source": [
    "![image-2.png](attachment:image-2.png)"
   ]
  }
 ],
 "metadata": {
  "kernelspec": {
   "display_name": "Python 3 (ipykernel)",
   "language": "python",
   "name": "python3"
  },
  "language_info": {
   "codemirror_mode": {
    "name": "ipython",
    "version": 3
   },
   "file_extension": ".py",
   "mimetype": "text/x-python",
   "name": "python",
   "nbconvert_exporter": "python",
   "pygments_lexer": "ipython3",
   "version": "3.9.13"
  },
  "vscode": {
   "interpreter": {
    "hash": "11d9b1788bbfcc776c36eeb024806354493dfa2b5b7a69bbbc877567800a4286"
   }
  }
 },
 "nbformat": 4,
 "nbformat_minor": 4
}
